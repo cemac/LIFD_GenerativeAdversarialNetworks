{
 "cells": [
  {
   "cell_type": "markdown",
   "metadata": {
    "id": "MKGKRqNgBjvk"
   },
   "source": [
    "<div style=\"background-color: #ccffcc; padding: 10px;\">\n",
    "    <h1> Tutorial 5 </h1> \n",
    "    <h2> Introduction to Generative Adversarial Networks </h2>\n",
    "</div>      \n",
    "\n",
    "\n",
    "# Overview\n",
    "\n",
    "This Jupyter notebook will walk you through building a simple GAN model and training it on the [MNIST dataset](https://en.wikipedia.org/wiki/MNIST_database) using [PyTorch](https://pytorch.org/). PyTorch is a very powerful library written in Python and C++ that facilitates the building and training of neural networks.\n",
    "\n",
    "This tutorial was adapted from Caitlin Howarth's Presentation and tutorial as part of the LIFD Work shop series. Some of the code and explanations from this tutorial came from [Aleksa Gordić's pyctorch-gans repository](https://github.com/gordicaleksa/pytorch-gans). It contains some more in-depth explanations, as well as examples of more advanced GAN models than we covered here.\n",
    "\n",
    "\n",
    "## The very basics\n",
    "\n",
    "If you know nothing about neural networks there is a [toy neural network python code example](https://github.com/cemac/LIFD_ENV_ML_NOTEBOOKS/tree/main/ToyNeuralNetwork) included in the [LIFD ENV ML Notebooks Repository]( https://github.com/cemac/LIFD_ENV_ML_NOTEBOOKS). Creating a 2 layer neural network to illustrate the fundamentals of how Neural Networks work and the equivlent code using the python machine learning library [keras](https://keras.io/). \n",
    "\n",
    "## Recommended reading \n",
    "\n",
    "\n",
    "* [Introduction to Neural Networks](https://victorzhou.com/blog/intro-to-neural-networks/)\n",
    "* [Introduction to Generative Adversarial Newtworks](https://towardsdatascience.com/fundamentals-of-generative-adversarial-networks-b7ca8c34f0bc)\n",
    "* [Auto Encoders](https://towardsdatascience.com/applied-deep-learning-part-3-autoencoders-1c083af4d798)\n",
    "* [Neural Networks for Regression Problems](https://towardsdatascience.com/deep-neural-networks-for-regression-problems-81321897ca33)\n",
    "* [Digitizing Sketches of the Earth’s Surface with the AI Behind Deep Fakes (IBM Earth Science Example)](https://www.ibm.com/blogs/research/2019/06/good-gans/)"
   ]
  },
  {
   "cell_type": "markdown",
   "metadata": {},
   "source": [
    "<hr>\n",
    "\n",
    "\n",
    "<div style=\"background-color: #e6ccff; padding: 10px;\">\n",
    "    \n",
    "<h1> Machine Learning Theory </h1>\n",
    " \n",
    "Generative Adversarial Newtworks are a pair of Neural Networks that work to generate rather than predict. The example you've probably see in [mainstream media](https://www.artificialintelligence-news.com/2022/05/09/kendrick-lamar-uses-deepfakes-in-latest-music-video/) is deepfakes, where the network has been trained to produce images of humans that are so good even humans can't tell the difference  \n",
    "    \n",
    "Generative Adversarial Newtworks are made up of two [Neural Networks](): a generator and a discriminator. Both networks are equally bad at their respective tasks initially. As training continues, both networks compete with one another to get better at their respective tasks. Eventually, the generator becomes so good that humans can’t tell the difference (hopefully!)\n",
    "    \n",
    "**The Generator**\n",
    "\n",
    "<a href=\"\">\n",
    "<img src=\"figs/generator.png\">\n",
    "</a>\n",
    "\n",
    "The generator takes a latent code as an input, and then decodes that vector into an output.\n",
    "\n",
    "Different latent codes should result in different outputs.\n",
    "\n",
    "In the original implementation of GANs, the generator never actually sees the training dataset, and is solely guided by the discriminator. \n",
    "\n",
    "    \n",
    "**The Discriminator**    \n",
    "<a href=\"\">\n",
    "<img src=\"figs/discriminator.png\">\n",
    "</a>\n",
    "\n",
    "    \n",
    "The discriminator is just a simple regression network and outputs a score from 0 (fake) to 1 (real).\n",
    "\n",
    "Values closer to 0 or 1 represent increased certainty that a sample is fake or real respectively.\n",
    "    \n",
    "**Loss Functions**\n",
    "\n",
    "Adversarial loss is essentially a minimax game, as proposed by Ian Goodfellow et al. [1]\n",
    "\n",
    "The discriminator attempts to maximise the likelihood of correctly predicting real samples as real, and fake samples as fake.\n",
    "\n",
    "The generator attempts to maximise the likelihood of the discriminator predicting that the fake samples it generates are real.\n",
    "\n",
    "* The discriminator loss is defined as: , where  is the discriminator,  is the generator,  is a sample from the real distribution and  is a latent vector given to the generator.\n",
    "\n",
    "* The generator loss is defined as: , where  is the discriminator,  is the generator, and  is a latent vector given to the generator.\n",
    "    \n",
    "References:\n",
    "    \n",
    "* [1] Goodfellow, I.J., Pouget-Abadie, J., Mirza, M., Xu, B., Warde-Farley, D., Ozair, S., Courville, A. and Bengio, Y. 2014. Generative Adversarial Networks. [arXiv:1406.2661](https://arxiv.org/abs/1406.2661)  [cs, stat].\n",
    "\n",
    "</div>    \n",
    "  "
   ]
  },
  {
   "cell_type": "markdown",
   "metadata": {
    "id": "MKGKRqNgBjvk"
   },
   "source": [
    "<div style=\"background-color: #cce5ff; padding: 10px;\">\n",
    "\n",
    "<h1> Python </h1>\n",
    "\n",
    "Basic python knowledge is assumed for this tutorial. For this tutorial the main machine learning library we'll be working [PyTorch](https://pytorch.org/). Python specific information will be colour coded blue.\n",
    " \n",
    "    \n",
    "## PyTorch\n",
    "    \n",
    "[PyTorch](https://towardsdatascience.com/understanding-pytorch-with-an-example-a-step-by-step-tutorial-81fc5f8c4e8e) is an open source deep learning framework Pytorch is very *pythonic*, so if you are used to coding in python using PyTorch should come naturally. \n",
    "\n",
    "    \n",
    "References:\n",
    "    \n",
    "* [https://towardsdatascience.com/understanding-pytorch-with-an-example-a-step-by-step-tutorial-81fc5f8c4e8e](https://towardsdatascience.com/understanding-pytorch-with-an-example-a-step-by-step-tutorial-81fc5f8c4e8e)\n",
    "* [https://www.nvidia.com/en-us/glossary/data-science/pytorch/](https://www.nvidia.com/en-us/glossary/data-science/pytorch/)    \n",
    "    \n",
    "</div>\n",
    "    \n",
    "<hr>\n",
    "\n"
   ]
  },
  {
   "cell_type": "markdown",
   "metadata": {},
   "source": [
    "<div style=\"background-color: #ffffcc; padding: 10px;\">\n",
    "    \n",
    "<h1> Requirements </h1>\n",
    "\n",
    "These notebooks should run \n",
    "\n",
    "<h2> Python Packages: </h2>\n",
    "\n",
    "* Python 3\n",
    "* PyTorch\n",
    "* time\n",
    "* os\n",
    "* numpy\n",
    "* matplotlib=3.0 \n",
    "\n",
    "\n",
    "<h2> Data Requirements</h2>\n",
    "\n",
    "This notebook referes to some data included in the git hub repositroy\n",
    "    \n",
    "</div>"
   ]
  },
  {
   "cell_type": "markdown",
   "metadata": {},
   "source": [
    "**Contents:**\n",
    "\n",
    "1. [Download MNIST Dataset](#Download-MNIST-Dataset)\n",
    "2. [Building the GAN](#Building-the-GAN)\n",
    "3. [Preparing to train](#Preparing-to-train)\n",
    "4. [Training](#Training)\n",
    "5. [Evaluating the GAN](#Evaluating-the-GAN)\n",
    "6. [Example Application to Earth Sciences](GANS_Tropical_Cyclones_example.ipynb) "
   ]
  },
  {
   "cell_type": "markdown",
   "metadata": {},
   "source": [
    "<div style=\"background-color: #cce5ff; padding: 10px;\">\n",
    "\n",
    "**Import python modules**\n",
    "    \n",
    "**PLEASE NOTE MAC USERS:** Torch and Torchvision must be load BEFORE numpy and other libraries due to a Bug in PyToch > 1.1 see [GitHub Issue](https://github.com/pytorch/pytorch/issues/78490). You do not need to change anything below    \n",
    "\n",
    "</div>"
   ]
  },
  {
   "cell_type": "code",
   "execution_count": 1,
   "metadata": {
    "id": "wNoYx4yaCeGM"
   },
   "outputs": [
    {
     "name": "stderr",
     "output_type": "stream",
     "text": [
      "/home/helen/anaconda3/envs/dim_red/lib/python3.8/site-packages/torchvision/io/image.py:13: UserWarning: Failed to load image Python extension: libc10_cuda.so: cannot open shared object file: No such file or directory\n",
      "  warn(f\"Failed to load image Python extension: {e}\")\n"
     ]
    }
   ],
   "source": [
    "# Machine Learning Library PyTorch and specific tools\n",
    "import torch\n",
    "from torch import nn\n",
    "from torch.optim import Adam\n",
    "from torch.utils.data import DataLoader\n",
    "from torchvision import datasets\n",
    "from torchvision.transforms import transforms\n",
    "from torchvision.utils import make_grid, save_image"
   ]
  },
  {
   "cell_type": "code",
   "execution_count": 2,
   "metadata": {},
   "outputs": [],
   "source": [
    "# For readability: disable warnings\n",
    "import warnings\n",
    "warnings.filterwarnings('ignore')"
   ]
  },
  {
   "cell_type": "code",
   "execution_count": 3,
   "metadata": {
    "id": "wNoYx4yaCeGM"
   },
   "outputs": [],
   "source": [
    "# import modules\n",
    "# general file system utilites\n",
    "import os\n",
    "import sys\n",
    "import time"
   ]
  },
  {
   "cell_type": "code",
   "execution_count": 4,
   "metadata": {
    "id": "wNoYx4yaCeGM"
   },
   "outputs": [],
   "source": [
    "# Plotting and standard numpy\n",
    "import numpy as np\n",
    "from matplotlib import pyplot as plt"
   ]
  },
  {
   "cell_type": "markdown",
   "metadata": {},
   "source": [
    "<div style=\"background-color: #cce5ff; padding: 10px;\">\n",
    "\n",
    "Check if GPU's available. This code will run on standard CPU's too just a lots slower.\n",
    "    \n",
    "If no GPU's are detected, then pretrained model weights will be used set by the flag\n",
    "    \n",
    "```python\n",
    "train_local=False\n",
    "```\n",
    "\n",
    "**If you get a message saying no GPU available but you think there should be this means you have not managed to compile a GPU version of PyTorch and need to follow the instructions in [PyTorchCondaRecipe.md](PyTorchCondaRecipe.md)**    \n",
    "\n",
    "or run `conda list cudatoolkit` in your GANS conda evironment and select your installation command from [PyTorch Download Guide](https://pytorch.org/get-started/locally/)\n",
    "    \n",
    "    \n",
    "**You must have NVDIA graphics card for GPU enabled PyTorch**    \n",
    "</div>"
   ]
  },
  {
   "cell_type": "code",
   "execution_count": 5,
   "metadata": {
    "colab": {
     "base_uri": "https://localhost:8080/"
    },
    "id": "aTyVAOT7b0LB",
    "outputId": "4ae92d05-f922-4f19-c242-b1c36e17271d"
   },
   "outputs": [
    {
     "name": "stdout",
     "output_type": "stream",
     "text": [
      "WARNING: No GPU available. Setting train_local to False\n"
     ]
    }
   ],
   "source": [
    "device = torch.device(\"cuda\" if torch.cuda.is_available() else \"cpu\")\n",
    "if torch.cuda.is_available():\n",
    "  train_local=True\n",
    "  GPUs=True  \n",
    "  print(torch.cuda.get_device_name(device))\n",
    "  print('GPUs found Setting train_local to True')\n",
    "else:\n",
    "  train_local=False\n",
    "  GPUs=False\n",
    "  print(\"WARNING: No GPU available. Setting train_local to False\")\n"
   ]
  },
  {
   "cell_type": "code",
   "execution_count": null,
   "metadata": {},
   "outputs": [],
   "source": []
  },
  {
   "cell_type": "markdown",
   "metadata": {},
   "source": [
    "<div style=\"background-color: #cce5ff; padding: 10px;\">\n",
    "\n",
    "If you want to override this behaviour and train your own network if you don't mind waiting or if you have GPUS available but don't want to wait 20 mins training your own network later you can the the next cell to:\n",
    "\n",
    "```python\n",
    "override_train_local=True\n",
    "```\n",
    "\n",
    "</div>"
   ]
  },
  {
   "cell_type": "code",
   "execution_count": 6,
   "metadata": {},
   "outputs": [],
   "source": [
    "# Set as override_train_local=False to maintain default behaviour for your hardware\n",
    "override_train_local=False"
   ]
  },
  {
   "cell_type": "code",
   "execution_count": 7,
   "metadata": {},
   "outputs": [
    {
     "name": "stdout",
     "output_type": "stream",
     "text": [
      "Default behaviour\n"
     ]
    }
   ],
   "source": [
    "if override_train_local :\n",
    "    if GPUs:\n",
    "        train_local=False  \n",
    "        print('WARNING SETTING TRAIN LOCAL TO FALSE, PRETRAINED MODEL WILL BE USED')\n",
    "    else:\n",
    "        train_local=True\n",
    "        print('WARNING SETTING TRAIN LOCAL TO TRUE, WILL TRAIN MODEL OVER A LONG TIME ON CPUS')\n",
    "else: \n",
    "    print('Default behaviour')"
   ]
  },
  {
   "cell_type": "markdown",
   "metadata": {},
   "source": [
    "<div style=\"background-color: #cce5ff; padding: 10px;\">\n",
    "Create data and image dir\n",
    "</div>"
   ]
  },
  {
   "cell_type": "code",
   "execution_count": 8,
   "metadata": {
    "id": "nyiGZGmFZ3Aq"
   },
   "outputs": [],
   "source": [
    "dataset_path = os.path.join(os.getcwd(), \"data\")\n",
    "image_path = os.path.join(os.getcwd(), \"images\")\n",
    "\n",
    "# Ensure both of the directories are created.\n",
    "if not os.path.exists(dataset_path):\n",
    "    os.mkdir(dataset_path)\n",
    "\n",
    "if not os.path.exists(image_path):\n",
    "    os.mkdir(image_path)"
   ]
  },
  {
   "cell_type": "markdown",
   "metadata": {
    "id": "gJB9cyUAZ8b9"
   },
   "source": [
    "# Download MNIST Dataset\n",
    "\n",
    "<div style=\"background-color: #cce5ff; padding: 10px;\">\n",
    "With the file storage out of the way, we can define a few variables. Firstly, we need to set our batch size.\n",
    "</div>"
   ]
  },
  {
   "cell_type": "code",
   "execution_count": 9,
   "metadata": {
    "id": "3HcWUgcaaIEG"
   },
   "outputs": [],
   "source": [
    "batch_size = 128"
   ]
  },
  {
   "cell_type": "markdown",
   "metadata": {
    "id": "zUQTC7zUaJK9"
   },
   "source": [
    "<div style=\"background-color: #ccffcc; padding: 10px;\">\n",
    "\n",
    "Next let's create a transform that normalises the pixels in our image to be within the range of -1 to 1. This helps the neural network to train better than leaving the inputs unnormalised.\n",
    "    \n",
    "</div>"
   ]
  },
  {
   "cell_type": "code",
   "execution_count": 10,
   "metadata": {
    "id": "NIzLaJCXaZSE"
   },
   "outputs": [],
   "source": [
    "transform = transforms.Compose([transforms.ToTensor(), transforms.Normalize((.5,), (.5,))])"
   ]
  },
  {
   "cell_type": "markdown",
   "metadata": {
    "id": "SWvOzBD2aaJi"
   },
   "source": [
    "<div style=\"background-color: #ccffcc; padding: 10px;\">\n",
    "    \n",
    "We can now load our data. As mentioned above, we're using the MNIST dataset. It's a very simple dataset of 28x28 greyscale images containing handwritten digits from 0 to 9. It has been used as a benchmark since the early days of machine learning, and is simple enough that we can train a GAN on it quite quickly, despite consisting of around 60,000 samples!\n",
    "\n",
    "</div>\n",
    "\n",
    "<div style=\"background-color: #cce5ff; padding: 10px;\">\n",
    "PyTorch contains the MNIST dataset as a baseline, so we can just use their preformed dataset to download the data.\n",
    "</div>"
   ]
  },
  {
   "cell_type": "code",
   "execution_count": 11,
   "metadata": {
    "colab": {
     "base_uri": "https://localhost:8080/",
     "height": 423,
     "referenced_widgets": [
      "685dd17bdbd242a6b8aae154168e11c1",
      "1884061b62a247c89ba5ec1f3d3bc87b",
      "7ed4f66c82614d58a2b51ca4284279ae",
      "49a2bbad317a42a8baafa935f3b1f24d",
      "8bf6c9121e0d492e9583973ceb432fe9",
      "852b3192156e40d7917b54706dce8984",
      "05c68d288d9b481b92de797ec708262f",
      "4b4a9796717a4f8488d8de07995908ab",
      "08e8491a188b4d4ba5508d93aecc4d55",
      "3d62e0765df84d449f831d47d1d43da0",
      "cbc8fd9400844d44bf43e1d39d536f4e",
      "bf0158687e584b83b757793403379a69",
      "d696e38e3080441788b535148f400c3e",
      "016a20ec7ebc4b448654310bdbc1ef04",
      "89a534457c424ba8bbc5297c991524a7",
      "db39e71f318643a78831a39ae9e9b223",
      "3593b4170d074f628eec5097b44fcf4e",
      "f1613593f4ca4f60be83b94cf9636e4a",
      "83c0ee38e3864a6583ee0b15b611f9d2",
      "8028397c30584cbd93961ec8819dc737",
      "0c360d889aa74a8b807f7ae0d29adbdb",
      "434dc2bb338544849897e59cef9c227b",
      "e3276a34cd4c4b26a3bce47551db7ffb",
      "9b6e1a6a950e43768decfdc896b14d95",
      "4304c3b333974f32a2fc4b317dde986c",
      "4f411ea3756f43aa98e2c2ac9e260402",
      "20d6f33ca8ec4a2da15c798ac303280d",
      "4930f5e49ae34727b2d565ba6abbba29",
      "b10e6d671c964b7b9998c03dafd69d1b",
      "4e05c783400c44dfbf1c918156aeface",
      "bcf3c439b54f45978300130c48a3a830",
      "2142f99e9f76444581bb3dfc46c8d8d6",
      "16373be927704a4586318a6bbf079b01",
      "6ed6edca08364822b93cccd9d51e59c9",
      "14b83f4fac694d60b4e34ea1187bc7e8",
      "faff639a61ce41c99bce8254a89a9e38",
      "63343150949148afa8687e3f454a4222",
      "7a01cc7bcdfb406092918c33b2d218f4",
      "62f2795555af46929d949dd5cde4e856",
      "51d83770272845efb84c480a94844112",
      "bbd12fed621b4a24bb09dc47a6061212",
      "6d6df8f8006e4229af72cda52b8f139c",
      "2e024e821363416594693388883e6a22",
      "b073f424f56f43ffa27e0673c33d8296"
     ]
    },
    "id": "T-vEr9Zaa6dz",
    "outputId": "8d87ef52-5a8a-423e-8a71-4a0dcbc1394e"
   },
   "outputs": [],
   "source": [
    "mnist_dataset = datasets.MNIST(root=os.path.join(os.getcwd(), \"data\"), \n",
    "                               train=True, download=True, transform=transform)"
   ]
  },
  {
   "cell_type": "markdown",
   "metadata": {
    "id": "rpZFbJ1Na922"
   },
   "source": [
    "<div style=\"background-color: #cce5ff; padding: 10px;\">\n",
    "PyTorch uses a DataLoader wrapper around a dataset in order to iterate through the dataset. It's where we specify the number of samples per batch, as well as whether to shuffle the data. drop_last ensures that any batch that isn't at least 128 samples gets dropped.\n",
    "</div>"
   ]
  },
  {
   "cell_type": "code",
   "execution_count": 12,
   "metadata": {
    "id": "GR1YsY0ObAtW"
   },
   "outputs": [],
   "source": [
    "mnist_data_loader = DataLoader(mnist_dataset, batch_size=batch_size, \n",
    "                               shuffle=True, drop_last=True)"
   ]
  },
  {
   "cell_type": "markdown",
   "metadata": {
    "id": "IiFzz8XXbCpI"
   },
   "source": [
    "<div style=\"background-color: #ccffcc; padding: 10px;\">\n",
    "Let's confirm how many image samples we have, as well as get a sample of images to show.\n",
    "<div>"
   ]
  },
  {
   "cell_type": "code",
   "execution_count": 13,
   "metadata": {
    "colab": {
     "base_uri": "https://localhost:8080/",
     "height": 407
    },
    "id": "5lhwVu7gbGAG",
    "outputId": "f58b4a36-3d75-4d24-f3cf-256ca004b40b"
   },
   "outputs": [
    {
     "name": "stdout",
     "output_type": "stream",
     "text": [
      "Dataset size: 60000 images.\n"
     ]
    },
    {
     "data": {
      "image/png": "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\n",
      "text/plain": [
       "<Figure size 600x600 with 1 Axes>"
      ]
     },
     "metadata": {},
     "output_type": "display_data"
    }
   ],
   "source": [
    "print(f'Dataset size: {len(mnist_dataset)} images.')\n",
    "\n",
    "# Get a batch from the dataloader and take 16 images from that batch to display.\n",
    "batch = next(iter(mnist_data_loader))\n",
    "img_batch = batch[0]\n",
    "img_batch_subset = img_batch[:16]  # extract only a subset of images\n",
    "\n",
    "# Form a grid of images and display them.\n",
    "grid = make_grid(img_batch_subset, nrow=int(4), normalize=True, pad_value=1.)\n",
    "\n",
    "# Rearrange axis from channels first to channels last for MatPlotLib.\n",
    "grid = np.moveaxis(grid.numpy(), 0, 2)\n",
    "\n",
    "# Plot our figure.\n",
    "plt.figure(figsize=(6, 6))\n",
    "plt.title(\"MNIST Samples\")\n",
    "plt.imshow(grid)\n",
    "plt.show()"
   ]
  },
  {
   "cell_type": "markdown",
   "metadata": {
    "id": "kiUNHq7GbYum"
   },
   "source": [
    "<div style=\"background-color: #ccffcc; padding: 10px;\">\n",
    "\n",
    "Now we have seen our data, we can start building our neural network!\n",
    "</div>"
   ]
  },
  {
   "cell_type": "markdown",
   "metadata": {
    "id": "kiUNHq7GbYum"
   },
   "source": [
    "# Building the GAN\n",
    "\n",
    "<div style=\"background-color: #ccffcc; padding: 10px;\">\n",
    "Recall that the generator has a latent space from which we draw samples from by input random vectors. Let's define it as a vector with 100 elements and create a function to generate a batch of latent inputs.\n",
    "</div>"
   ]
  },
  {
   "cell_type": "code",
   "execution_count": 14,
   "metadata": {
    "id": "RNkp6XM_bgE2"
   },
   "outputs": [],
   "source": [
    "LATENT_SPACE_DIM = 100\n",
    "\n",
    "def get_gaussian_latent_batch(batch_size, device):\n",
    "    return torch.randn((batch_size, LATENT_SPACE_DIM), device=device)"
   ]
  },
  {
   "cell_type": "markdown",
   "metadata": {
    "id": "J-nGiNwkeaeW"
   },
   "source": [
    "\n",
    "\n",
    "<div style=\"background-color: #e6ccff; padding: 10px;\">\n",
    "        \n",
    "We can now start constructing our neural networks. Remember that generative adversarial networks are actually composed of two networks: a generator and a discriminator.\n",
    "\n",
    "    \n",
    "Let's create a building block for constructing the networks first:\n",
    "</div>"
   ]
  },
  {
   "cell_type": "code",
   "execution_count": 15,
   "metadata": {
    "id": "mgDpmkWoenEh"
   },
   "outputs": [],
   "source": [
    "def network_block(in_feat, out_feat, normalize=True, activation=None):\n",
    "    layers = [nn.Linear(in_feat, out_feat)]\n",
    "    if normalize:\n",
    "        layers.append(nn.BatchNorm1d(out_feat))\n",
    "\n",
    "    layers.append(nn.LeakyReLU(0.2) if activation is None else activation)\n",
    "\n",
    "    return layers"
   ]
  },
  {
   "cell_type": "markdown",
   "metadata": {
    "id": "XuyK8kfGexkD"
   },
   "source": [
    "\n",
    "<div style=\"background-color: #e6ccff; padding: 10px;\">\n",
    "    \n",
    "This building block consists of a Linear (or fully connected) layer, a batch normalisation layer and an activation function layer (Leaky ReLU).\n",
    "\n",
    "</div>    \n",
    "<div style=\"background-color: #ccffcc; padding: 10px;\">\n",
    "Using this block, let's now build our generator, which is tasked with creating new MNIST samples:\n",
    "</div>"
   ]
  },
  {
   "cell_type": "code",
   "execution_count": 16,
   "metadata": {
    "id": "FA9e6XCefF4R"
   },
   "outputs": [],
   "source": [
    "class GeneratorNet(torch.nn.Module):\n",
    "    def __init__(self, img_shape=(28, 28)):\n",
    "        super().__init__()\n",
    "        self.generated_img_shape = img_shape\n",
    "        num_neurons_per_layer = [LATENT_SPACE_DIM, 256, 512, 1024, img_shape[0] * img_shape[1]]\n",
    "\n",
    "        # Let's define our network as a series of four of the blocks we defined above. Each time we increase the\n",
    "        # number of neurons per layer and use the leaky ReLU as our activation function. For the last set of layers,\n",
    "        # we skip normalisation and instead apply a hyperbolic tangent as our activation layer. This is so that the\n",
    "        # output of the network is in the range of -1 to 1, with the same number of pixels as the inputs.\n",
    "        self.net = nn.Sequential(\n",
    "            *network_block(num_neurons_per_layer[0], num_neurons_per_layer[1]),\n",
    "            *network_block(num_neurons_per_layer[1], num_neurons_per_layer[2]),\n",
    "            *network_block(num_neurons_per_layer[2], num_neurons_per_layer[3]),\n",
    "            *network_block(num_neurons_per_layer[3], num_neurons_per_layer[4], normalize=False, activation=nn.Tanh())\n",
    "        )\n",
    "\n",
    "    def forward(self, latent_vector_batch):\n",
    "        img_batch_flattened = self.net(latent_vector_batch)\n",
    "\n",
    "        # The output of the network is a vector of 784 pixels, let's reshape it so it's a matrix of 28x28 pixels.\n",
    "        return img_batch_flattened.view(img_batch_flattened.shape[0], 1, *self.generated_img_shape)"
   ]
  },
  {
   "cell_type": "markdown",
   "metadata": {
    "id": "EGj3vOkFfLnr"
   },
   "source": [
    "\n",
    "<div style=\"background-color: #e6ccff; padding: 10px;\">\n",
    "    \n",
    "The above generator is built using four of the network blocks we defined above, each time increase the number of neurons per layer. The final block uses a hyperbolic tangent as its activation function, as this allows us to shape the output in the range of -1 to 1, which is the range our pixels are stored in.\n",
    "\n",
    "    \n",
    "Next, we'll define the discriminator in a similar manner:\n",
    "</div>    "
   ]
  },
  {
   "cell_type": "code",
   "execution_count": 17,
   "metadata": {
    "id": "q5E5RpyifiG_"
   },
   "outputs": [],
   "source": [
    "class DiscriminatorNet(torch.nn.Module):\n",
    "    def __init__(self, img_shape=(28, 28)):\n",
    "        super().__init__()\n",
    "        num_neurons_per_layer = [img_shape[0] * img_shape[1], 512, 256, 1]\n",
    "\n",
    "        # Last layer is Sigmoid function - basically the goal of the discriminator is to output 1.\n",
    "        # for real images and 0. for fake images and sigmoid is clamped between 0 and 1 so it's perfect.\n",
    "        self.net = nn.Sequential(\n",
    "            *network_block(num_neurons_per_layer[0], num_neurons_per_layer[1], normalize=False),\n",
    "            *network_block(num_neurons_per_layer[1], num_neurons_per_layer[2], normalize=False),\n",
    "            *network_block(num_neurons_per_layer[2], num_neurons_per_layer[3], normalize=False, activation=nn.Sigmoid())\n",
    "        )\n",
    "\n",
    "    def forward(self, img_batch):\n",
    "        # We remove the redundant channel dimension here, since it's of size 1 (we're dealing with greyscale images\n",
    "        # remember).\n",
    "        img_batch_flattened = img_batch.view(img_batch.shape[0], -1)\n",
    "        return self.net(img_batch_flattened)"
   ]
  },
  {
   "cell_type": "markdown",
   "metadata": {
    "id": "q9SpP12_fkzO"
   },
   "source": [
    "\n",
    "<div style=\"background-color: #e6ccff; padding: 10px;\">\n",
    "    \n",
    "We use the same block we created for the generator to keep things simple, and just reverse the process: going from an image of 28x28 to a single floating point number representing the certainty that the discriminator has of a sample being real or generated.\n",
    "\n",
    "Now we've defined our generator and discriminator, all that remains is to create them!\n",
    "    <div>"
   ]
  },
  {
   "cell_type": "code",
   "execution_count": 18,
   "metadata": {
    "colab": {
     "base_uri": "https://localhost:8080/"
    },
    "id": "MM_DkXcTfxZw",
    "outputId": "3f751d00-c9a6-4810-9d3f-c3968b0eeedb"
   },
   "outputs": [
    {
     "data": {
      "text/plain": [
       "GeneratorNet(\n",
       "  (net): Sequential(\n",
       "    (0): Linear(in_features=100, out_features=256, bias=True)\n",
       "    (1): BatchNorm1d(256, eps=1e-05, momentum=0.1, affine=True, track_running_stats=True)\n",
       "    (2): LeakyReLU(negative_slope=0.2)\n",
       "    (3): Linear(in_features=256, out_features=512, bias=True)\n",
       "    (4): BatchNorm1d(512, eps=1e-05, momentum=0.1, affine=True, track_running_stats=True)\n",
       "    (5): LeakyReLU(negative_slope=0.2)\n",
       "    (6): Linear(in_features=512, out_features=1024, bias=True)\n",
       "    (7): BatchNorm1d(1024, eps=1e-05, momentum=0.1, affine=True, track_running_stats=True)\n",
       "    (8): LeakyReLU(negative_slope=0.2)\n",
       "    (9): Linear(in_features=1024, out_features=784, bias=True)\n",
       "    (10): Tanh()\n",
       "  )\n",
       ")"
      ]
     },
     "execution_count": 18,
     "metadata": {},
     "output_type": "execute_result"
    }
   ],
   "source": [
    "# We send both networks to our training device\n",
    "discriminator_net = DiscriminatorNet().to(device)\n",
    "generator_net = GeneratorNet().to(device)\n",
    "\n",
    "# Make sure they're both set to train!\n",
    "discriminator_net.train()\n",
    "generator_net.train()\n"
   ]
  },
  {
   "cell_type": "markdown",
   "metadata": {
    "id": "iI7u7aOsf_5P"
   },
   "source": [
    "# Preparing to train\n",
    "\n",
    "<div style=\"background-color: #e6ccff; padding: 10px;\">\n",
    "    \n",
    "Now we've created our generator and discriminator, we need to train them! As it stands, they've been initiated with random weights for all trainable parameters. This means that initially, both the generator and discriminator are going to be terrible at their respective tasks.\n",
    "\n",
    "By training them, both will improve, and through the adversarial nature of the loss function, one network getting stronger *should* result in the other improving too. This isn't always the case however, sometimes either the generator or discriminator will become too strong and overpower the other. This is a failure case, and the model will no longer produce anything meaningful.\n",
    "\n",
    "In the case of the generator winning, it learns a pattern that fools the discriminator while not necessarily representing the dataset at all. Often, the mode will collpase, with all latent variables converging to the same output image. If the discriminator wins, the generator loses its gradient and will begin to produce garbage outputs.\n",
    "\n",
    "We want to avoid both cases, which makes GANs more difficult to train than most other machine learning models.\n",
    "\n",
    "To begin our training, we first need to create an optimiser for each network. This optimiser implements an algorithm for performing backpropagation on the neural network. For this demo, we'll use the well known and effective Adam optimiser. If you want to know more about how this works, the paper it was proposed in can be found [here](https://arxiv.org/abs/1412.6980).\n",
    "    \n",
    "</div>"
   ]
  },
  {
   "cell_type": "markdown",
   "metadata": {},
   "source": [
    "# Learning Rates"
   ]
  },
  {
   "cell_type": "markdown",
   "metadata": {
    "id": "jML-BrmehiiU"
   },
   "source": [
    "<div style=\"background-color: #e6ccff; padding: 10px;\">\n",
    "\n",
    "We set the initial learning rate for both optimisers to 0.0002. The learning rate is the single most important hyperparameter when training, and changing it can have drastic results. Try experimenting with much larger learning rates on both the generator and discriminator and see how it affects training!\n",
    "\n",
    "</div>\n",
    "\n",
    "<div style=\"background-color: #cce5ff; padding: 10px;\">\n",
    "\n",
    "    \n",
    "**There is a link back to here at the end of this section of the tutorial.**\n",
    "    \n",
    "After you have gone through the tutorial rerun the section below with different learning rates to see the effects. \n",
    "    \n",
    "The learning rates are initally set at:\n",
    "```python\n",
    "    learning_rate_dis = 0.0002\n",
    "    learning_rate_gen = 0.0002\n",
    "```    \n",
    "    \n",
    "For example try increasing or decreasing by a factor of 10. What happens if you alter one rate but not the other?   \n",
    "    \n",
    "</div>"
   ]
  },
  {
   "cell_type": "code",
   "execution_count": 64,
   "metadata": {},
   "outputs": [],
   "source": [
    "# Learning Rate\n",
    "# We set the initial learning rate for both optimisers to 0.0002. \n",
    "learning_rate_dis = 0.00002\n",
    "learning_rate_gen = 0.00002"
   ]
  },
  {
   "cell_type": "code",
   "execution_count": 65,
   "metadata": {
    "id": "NMv678urgo2F"
   },
   "outputs": [],
   "source": [
    "discriminator_opt = Adam(discriminator_net.parameters(), lr=learning_rate_dis)\n",
    "generator_opt = Adam(generator_net.parameters(), lr=learning_rate_gen)"
   ]
  },
  {
   "cell_type": "markdown",
   "metadata": {
    "id": "jML-BrmehiiU"
   },
   "source": [
    "<div style=\"background-color: #ccffcc; padding: 10px;\"> \n",
    "In order to evaluate how the network is doing, we'll use a constant set of 16 latent inputs and monitor how the outputs change, saving a sample to the images directory.\n",
    "    </div>"
   ]
  },
  {
   "cell_type": "code",
   "execution_count": 66,
   "metadata": {
    "id": "y8JFUtLPiAQ-"
   },
   "outputs": [],
   "source": [
    "ref_batch_size = 16\n",
    "ref_noise_batch = get_gaussian_latent_batch(ref_batch_size, device)"
   ]
  },
  {
   "cell_type": "markdown",
   "metadata": {
    "id": "uq9AwRIqiEV9"
   },
   "source": [
    "\n",
    "<div style=\"background-color: #e6ccff; padding: 10px;\">\n",
    "    \n",
    "We need to define the loss function that we're going to use to train our networks. We'll use binary cross entropy to measure our discriminator's predictions.\n",
    "\n",
    "If we input real images into the discriminator we expect it to output 1 (100% certainty that the image is real).\n",
    "\n",
    "The further away it is from 1 and the closer it is to 0 the more we should penalize it, as it is making an incorrect prediction.\n",
    "\n",
    "BCE loss essentially becomes -log(x) when the target label is 1.\n",
    "\n",
    "Similarly for fake images, the target label is 0 (as we want the discriminator to output 0 for fake images) and we want to penalise the generator if it starts outputing values close to 1. So we basically want to mirror the above loss function and that's just: -log(1-x).\n",
    "\n",
    "BCE loss basically becomes -log(1-x) when it's target label is 0.\n",
    "    \n",
    "</div>    "
   ]
  },
  {
   "cell_type": "code",
   "execution_count": 67,
   "metadata": {
    "id": "taXv-ChNi3zJ"
   },
   "outputs": [],
   "source": [
    "adversarial_loss = nn.BCELoss()\n",
    "\n",
    "# Let's define our ground truth for each type of input.\n",
    "real_images_gt = torch.ones((batch_size, 1), device=device)\n",
    "fake_images_gt = torch.zeros((batch_size, 1), device=device)"
   ]
  },
  {
   "cell_type": "markdown",
   "metadata": {
    "id": "u04qLbP9i_MP"
   },
   "source": [
    "\n",
    "<div style=\"background-color: #ccffcc; padding: 10px;\">\n",
    "Finally, let's define a few variables to help our training process.\n",
    "</div>"
   ]
  },
  {
   "cell_type": "code",
   "execution_count": 68,
   "metadata": {
    "id": "FFDe16zdjDtj"
   },
   "outputs": [],
   "source": [
    "# Let's create some variables to keep track of our losses, as well as configure how often we log.\n",
    "discriminator_loss_values = []\n",
    "generator_loss_values = []\n",
    "img_count = 0\n",
    "console_log_freq = 50\n",
    "debug_imagery_log_freq = 50"
   ]
  },
  {
   "cell_type": "code",
   "execution_count": 69,
   "metadata": {
    "id": "FFDe16zdjDtj"
   },
   "outputs": [],
   "source": [
    "# This defines how many times we show the entire dataset to each network. 100 epochs means we show the networks every\n",
    "# sample 100 times. Feel free to experiment with this and see if it affects training!\n",
    "num_epochs = 100"
   ]
  },
  {
   "cell_type": "code",
   "execution_count": 70,
   "metadata": {
    "id": "FFDe16zdjDtj"
   },
   "outputs": [],
   "source": [
    "# Let's also measure how much time training takes.\n",
    "start_time = time.time()"
   ]
  },
  {
   "cell_type": "markdown",
   "metadata": {
    "id": "33nD90rijMSo"
   },
   "source": [
    "<div style=\"background-color: #ccffcc; padding: 10px;\">\n",
    "We're now ready to begin our training loop!\n",
    "</div>"
   ]
  },
  {
   "cell_type": "markdown",
   "metadata": {
    "id": "33nD90rijMSo"
   },
   "source": [
    "# Training"
   ]
  },
  {
   "cell_type": "markdown",
   "metadata": {
    "id": "8z-21fNDjWyI"
   },
   "source": [
    "<div style=\"background-color: #ccffcc; padding: 10px;\">\n",
    "Let's create our GAN training loop. We start with training the discriminator, as this helps to prevent early mode collapse. \n",
    "</div>   \n",
    "\n",
    "<div style=\"background-color: #ffcdcc; padding: 10px;\">     \n",
    "\n",
    " **For 100 epochs, this training will take approximately 20-25 minutes, go grab a coffee!**\n",
    "\n",
    "</div>    "
   ]
  },
  {
   "cell_type": "code",
   "execution_count": 80,
   "metadata": {
    "colab": {
     "base_uri": "https://localhost:8080/"
    },
    "id": "Jj_frJj4jeFX",
    "outputId": "1b5a92a8-2be8-4539-9bb8-958bd3288cf4"
   },
   "outputs": [
    {
     "name": "stdout",
     "output_type": "stream",
     "text": [
      "Train_local set to False loading pretrained\n"
     ]
    }
   ],
   "source": [
    "if train_local:\n",
    "    for epoch in range(num_epochs):\n",
    "        for batch_idx, (real_images, _) in enumerate(mnist_data_loader):\n",
    "\n",
    "            # Move the batch tensor to our training device.\n",
    "            real_images = real_images.to(device)\n",
    "\n",
    "            # Zero out the gradients in the discriminator. It's essential to do this prior to performing a forward and\n",
    "            # backwards pass, else we have stale gradients from the previous iteration still present.\n",
    "            discriminator_opt.zero_grad()\n",
    "\n",
    "            # Show real images to our discriminator.\n",
    "            real_discriminator_loss = adversarial_loss(discriminator_net(real_images), real_images_gt)\n",
    "\n",
    "            # Generate fake images with the generator.\n",
    "            fake_images = generator_net(get_gaussian_latent_batch(batch_size, device))\n",
    "\n",
    "            # Show fake images to our discriminator. We call .detach() on them to detach them from the gradient graph\n",
    "            # since we're not training the generator right now.\n",
    "            fake_discriminator_loss = adversarial_loss(discriminator_net(fake_images.detach()), fake_images_gt)\n",
    "\n",
    "            # Calculate the final loss by adding both terms and performing a backpropagation pass and optimiser step.\n",
    "            discriminator_loss = real_discriminator_loss + fake_discriminator_loss\n",
    "            discriminator_loss.backward()\n",
    "            discriminator_opt.step()\n",
    "\n",
    "            # Zero out the gradients in the generator.\n",
    "            generator_opt.zero_grad()\n",
    "\n",
    "            # Generate fake images and show them to the discriminator.\n",
    "            generated_images_predictions = discriminator_net(generator_net(get_gaussian_latent_batch(batch_size, device)))\n",
    "\n",
    "            # The generator's goal is to fool the discriminator, so our loss function should aim to make the\n",
    "            # discriminator classify these fake images as real.\n",
    "            generator_loss = adversarial_loss(generated_images_predictions, real_images_gt)\n",
    "\n",
    "            # Perform a backpropagation pass and optimiser step.\n",
    "            generator_loss.backward()  # this will populate .grad vars in the G net (also in D but we won't use those)\n",
    "            generator_opt.step()  # perform G weights update according to optimizer's strategy\n",
    "\n",
    "            # Log our loss values. We detach them from the graph to ensure we don't get a memory leak.\n",
    "            generator_loss_values.append(generator_loss.detach().item())\n",
    "            discriminator_loss_values.append(discriminator_loss.detach().item())\n",
    "\n",
    "            # Log details to the console.\n",
    "            if batch_idx % console_log_freq == 0:\n",
    "                prefix = 'GAN training: time elapsed'\n",
    "                print(f\"{prefix} = {(time.time() - start_time):.2f} [s] | epoch={epoch + 1} | \"\n",
    "                      f\"batch= [{batch_idx + 1}/{len(mnist_data_loader)}]\")\n",
    "\n",
    "            # Save intermediate generator images.\n",
    "            if batch_idx % debug_imagery_log_freq == 0:\n",
    "                with torch.no_grad():\n",
    "                    log_generated_images = generator_net(ref_noise_batch)\n",
    "                    log_generated_images_resized = nn.Upsample(scale_factor=2.5, mode='nearest')(log_generated_images)\n",
    "                    out_path = os.path.join(image_path, f'{str(img_count).zfill(6)}.jpg')\n",
    "                    save_image(log_generated_images_resized, out_path, nrow=int(np.sqrt(ref_batch_size)), normalize=True)\n",
    "                    img_count += 1\n",
    "    # Trained                 \n",
    "    trained = True\n",
    "else:\n",
    "    print('Train_local set to False loading pretrained')\n",
    "    try:\n",
    "        generator_net1 = GeneratorNet()\n",
    "        generator_net = GeneratorNet()\n",
    "        torch.load('pretrained/GANS_GenN_gen_LR_' + str(learning_rate_gen) + \n",
    "                                                 '_dis_LR_' + str(learning_rate_dis) + '.pt', generator_net1)\n",
    "        generator_net.load_state_dict\n",
    "        discriminator_net = DiscriminatorNet()\n",
    "        torch.load('pretrained/GANS_DisN_gen_LR_' + str(learning_rate_gen) + \n",
    "                                                 '_dis_LR_' + str(learning_rate_dis) + '.pt', discriminator_net)\n",
    "    except FileNotFoundError:\n",
    "        print('pretrained/GANS_DisN_gen_LR_' + str(learning_rate_gen) + '_dis_LR_' + str(learning_rate_dis) +\n",
    "              '.pkl not found,try using the following learning rates 0.002, 0.0002 or 0.00002.')\n"
   ]
  },
  {
   "cell_type": "code",
<<<<<<< HEAD
   "execution_count": 50,
=======
   "execution_count": 81,
>>>>>>> dcc14f93bc5f1a1a2e111d007b0f1b74ec2a184e
   "metadata": {},
   "outputs": [],
   "source": [
    "if train_local:\n",
    "    if trained:\n",
    "        torch.save(generator_net, 'pretrained/GANS_GenN_gen_LR_' + str(learning_rate_gen) + \n",
    "                                                 '_dis_LR_' + str(learning_rate_dis) + '.pt')\n",
    "        torch.save(discriminator_net, 'pretrained/GANS_DisN_gen_LR_' + str(learning_rate_gen) + \n",
    "                                                 '_dis_LR_' + str(learning_rate_dis) + '.pt')"
   ]
  },
  {
   "cell_type": "markdown",
   "metadata": {
    "id": "91acZT2CjvhX"
   },
   "source": [
    "<div style=\"background-color: #ccffcc; padding: 10px;\">\n",
    "\n",
    "Now our training is finished, it's time to evaluate how it's doing!\n",
    "\n",
    "If you'd like, you can check out the image samples we saved during training. Remember we created a set of constant latent inputs, meaning each image has the same input and differs only because the generator's weights have updated.\n",
    "\n",
    "The images folder contains samples produced as training has progressed. Can you see how it's improving over time?\n",
    "\n",
    "</div>"
   ]
  },
  {
   "cell_type": "markdown",
   "metadata": {
    "id": "91acZT2CjvhX"
   },
   "source": [
    "# Evaluating the GAN\n",
    "\n",
    "<div style=\"background-color: #ccffcc; padding: 10px;\">\n",
    "\n",
    "Now we've trained our model, we can use it to generate a new handwritten digit based on the MNIST dataset, but totally unique!\n",
    "\n",
    "To start with, we'll define a few functions for prettying up and displaying the sample images.\n",
    "    \n",
    "</div>    "
   ]
  },
  {
   "cell_type": "code",
   "execution_count": 82,
   "metadata": {
    "id": "V_LYQv1qmFbQ"
   },
   "outputs": [],
   "source": [
    "def postprocess_generated_img(generated_img_tensor):\n",
    "    assert isinstance(generated_img_tensor, torch.Tensor), f'Expected PyTorch tensor but got {type(generated_img_tensor)}.'\n",
    "\n",
    "    # Move the tensor from GPU to CPU, convert to numpy array, extract 0th batch, move the image channel\n",
    "    # from 0th to 2nd position (CHW -> HWC)\n",
    "    generated_img = np.moveaxis(generated_img_tensor.to('cpu').numpy()[0], 0, 2)\n",
    "\n",
    "    # Since MNIST images are grayscale (1-channel only) repeat 3 times to get RGB image\n",
    "    generated_img = np.repeat(generated_img,  3, axis=2)\n",
    "\n",
    "    # Normalise from range of [-1, 1], to [0, 1].\n",
    "    generated_img -= np.min(generated_img)\n",
    "    generated_img /= np.max(generated_img)\n",
    "\n",
    "    return generated_img\n",
    "\n",
    "\n",
    "# This function will generate a random vector pass it to the generator which will generate a new image\n",
    "# which we will just post-process and return it\n",
    "def generate_from_random_latent_vector(generator):\n",
    "    with torch.no_grad():  # Tells PyTorch not to compute gradients which would have huge memory footprint\n",
    "\n",
    "        # Generate a single random (latent) vector\n",
    "        latent_vector = get_gaussian_latent_batch(1, next(generator.parameters()).device)\n",
    "\n",
    "        # Post process generator output (as it's in the [-1, 1] range, remember?)\n",
    "        generated_img = postprocess_generated_img(generator(latent_vector))\n",
    "\n",
    "    return generated_img\n",
    "\n",
    "\n",
    "def display_image(numpy_image):\n",
    "    assert isinstance(numpy_image, np.ndarray), f'Expected numpy array got {type(numpy_image)}.'\n",
    "\n",
    "    # Convert to uint8 format if it isn't already.\n",
    "    if numpy_image.dtype != np.uint8:\n",
    "        numpy_image = (numpy_image*255).astype(np.uint8)\n",
    "\n",
    "    # Show the image.\n",
    "    plt.imshow(numpy_image)\n",
    "    plt.show()"
   ]
  },
  {
   "cell_type": "markdown",
   "metadata": {
    "id": "oEYqXBRknKzz"
   },
   "source": [
    "<div style=\"background-color: #cce5ff; padding: 10px;\">\n",
    "Now let's generate a sample image from our generator! First we need to set the generator to evaluation mode, to prevent PyTorch from generating gradients.\n",
    "</div>"
   ]
  },
  {
   "cell_type": "code",
   "execution_count": 84,
   "metadata": {
    "colab": {
     "base_uri": "https://localhost:8080/"
    },
    "id": "-HSP7csznZsY",
    "outputId": "25166c97-c6a1-4d8a-9461-91d422ba4241"
   },
   "outputs": [
    {
     "data": {
      "text/plain": [
       "GeneratorNet(\n",
       "  (net): Sequential(\n",
       "    (0): Linear(in_features=100, out_features=256, bias=True)\n",
       "    (1): BatchNorm1d(256, eps=1e-05, momentum=0.1, affine=True, track_running_stats=True)\n",
       "    (2): LeakyReLU(negative_slope=0.2)\n",
       "    (3): Linear(in_features=256, out_features=512, bias=True)\n",
       "    (4): BatchNorm1d(512, eps=1e-05, momentum=0.1, affine=True, track_running_stats=True)\n",
       "    (5): LeakyReLU(negative_slope=0.2)\n",
       "    (6): Linear(in_features=512, out_features=1024, bias=True)\n",
       "    (7): BatchNorm1d(1024, eps=1e-05, momentum=0.1, affine=True, track_running_stats=True)\n",
       "    (8): LeakyReLU(negative_slope=0.2)\n",
       "    (9): Linear(in_features=1024, out_features=784, bias=True)\n",
       "    (10): Tanh()\n",
       "  )\n",
       ")"
      ]
     },
     "execution_count": 84,
     "metadata": {},
     "output_type": "execute_result"
    }
   ],
   "source": [
    "generator_net.eval()"
   ]
  },
  {
   "cell_type": "markdown",
   "metadata": {
    "id": "OuZXzuohnbwu"
   },
   "source": [
    "<div style=\"background-color: #ccffcc; padding: 10px;\">\n",
    "Finally, let's generate our new sample!\n",
    "</div>    \n",
    " \n",
    "<div style=\"background-color: #cce5ff; padding: 10px;\">\n",
    "    \n",
    "**You can rerun the below cell multiple times to generate new, unique samples.**\n",
    "    \n",
    "</div>"
   ]
  },
  {
   "cell_type": "code",
   "execution_count": 85,
   "metadata": {
    "colab": {
     "base_uri": "https://localhost:8080/",
     "height": 265
    },
    "id": "T7AWo0ianfph",
    "outputId": "9aafa39e-45d7-43a0-b68a-d3cf0ee0f958"
   },
   "outputs": [
    {
     "data": {
      "image/png": "iVBORw0KGgoAAAANSUhEUgAAAaEAAAGdCAYAAAC7EMwUAAAAOXRFWHRTb2Z0d2FyZQBNYXRwbG90bGliIHZlcnNpb24zLjYuMiwgaHR0cHM6Ly9tYXRwbG90bGliLm9yZy8o6BhiAAAACXBIWXMAAA9hAAAPYQGoP6dpAAAoU0lEQVR4nO3de3SU9Z3H8c8QyBAwGU1Dblxi5CKWYCy3AFW5FFKyaqXYirTdA6euilz2sOj2yOIe2a6HdL2wtqXoYi2FU7C2VC0KinGRgCIsIBQEhKihhEsMIMyEECYEnv2DQ47hmu9jwo8k79c5c46ZeT4+P5484cOTmflOwPM8TwAAONDC9QIAAM0XJQQAcIYSAgA4QwkBAJyhhAAAzlBCAABnKCEAgDOUEADAmZauF3Cu06dPa//+/YqPj1cgEHC9HACAked5Ki8vV3p6ulq0uPS1zlVXQvv371fHjh1dLwMA8DWVlJSoQ4cOl9zmqiuh+Ph4SdJDDz2k2NjYOufC4bB5X8XFxeaMJP3nf/6nObNv3z5z5sMPPzRnTp48ac5cd9115owkJSUlmTNvvvmmOePnHyUxMTHmjCRde+215kxlZaU50759e3Nm165dV2Q/krRq1SpzpnPnzubMN7/5TXPmo48+MmeCwaA5I8nXb2P27NljznTv3t2cufHGG80Zyd/fe0VFRabtq6ur9b//+781f59fSoOV0Jw5c/T000/rwIED6tGjh5577jnddtttl82d/abHxsaaThxLYZ3VsqW/P/4111xjzrRp08ac8fODc7lL3wtp3bq1OSNJcXFx5oyfY+7ne+u3hPwc89OnT5szfo65n+Pg9y/fK/V98nMcWrVqZc74WZvkr4Su1LHz8/Mn+Tsn/BxzqW7Hr0FemPDKK69oypQpmj59ujZt2qTbbrtNeXl5vv6FAABouhqkhGbNmqX7779f//RP/6SbbrpJzz33nDp27Kjnn3++IXYHAGik6r2EqqqqtHHjRuXm5ta6Pzc3V2vWrDlv+2g0qkgkUusGAGge6r2EDh06pFOnTiklJaXW/SkpKSotLT1v+/z8fIVCoZobr4wDgOajwd6seu4TUp7nXfBJqmnTpikcDtfcSkpKGmpJAICrTL2/Oi4pKUkxMTHnXfWUlZWdd3UknXmlht9X8AAAGrd6vxKKjY1V7969VVBQUOv+goICDRw4sL53BwBoxBrkfUJTp07VP/7jP6pPnz4aMGCA5s6dqz179mj8+PENsTsAQCPVICU0evRoHT58WD//+c914MABZWVladmyZcrIyGiI3QEAGqkGm5gwYcIETZgwwXd+2LBhatu2bZ23v/766837ePzxx80ZSdq+fbs58/e//92c6dGjhzmzevVqc6ZXr17mjCS99dZb5sy///u/mzPbtm0zZ44cOWLOSNLevXvNGT8TNNauXWvOTJkyxZz51a9+Zc5I/t5V72d0VpcuXa7IfvxOF9i5c6c58+1vf9ucqct4m3O9+OKL5ox05hXJVp7nmbaPRqNavnx5nbbloxwAAM5QQgAAZyghAIAzlBAAwBlKCADgDCUEAHCGEgIAOEMJAQCcoYQAAM5QQgAAZyghAIAzlBAAwJkGG2D6db322muKjY2t8/a5ubnmfVx77bXmjCR1797dnImJiTFnNm7caM4MGTLEnHnyySfNGb85P8Nf27VrZ858+eWX5owkFRUVmTO7du0yZyZPnmzOvP322+ZMmzZtzBlJSktLM2eWLVtmzvhZ3y233GLO+P3EZj/DaU+fPm3O+DmHZs2aZc5I0tixY82ZwsJC0/bl5eX6zW9+U6dtuRICADhDCQEAnKGEAADOUEIAAGcoIQCAM5QQAMAZSggA4AwlBABwhhICADhDCQEAnKGEAADOUEIAAGcoIQCAMwHP8zzXi/iqSCSiUCikoUOHqmXLug/59jNFe+/eveaMJMXFxZkzBw8eNGf69etnzmzevNmc8TN5W/I3jXfQoEHmTLdu3cyZaDRqzkhSSkqKOdO/f39zZu7cueaMn7VZJtF/1alTp8yZqqoqc8bPtO709HRzZv/+/eaMJPn569HPtPObb77ZnPEzzV+SvvjiC3Pm5MmTpu2j0aheeOEFhcNhJSQkXHJbroQAAM5QQgAAZyghAIAzlBAAwBlKCADgDCUEAHCGEgIAOEMJAQCcoYQAAM5QQgAAZyghAIAzlBAAwJmrdoBpTk6OaYBpKBQy72vChAnmjCRt2rTJnMnKyjJnFi5caM7k5eWZM507dzZnJOnjjz82Z/wMXVy3bp05s2HDBnNGkkaNGmXO7Ny505xJTU01Z7Zs2WLOJCcnmzOS1KlTJ3Nm37595kwkEjFn/Pjtb3/rKzd69GhzplevXuaMn3No/fr15ozk73tr/TsiGo3qmWeeYYApAODqRgkBAJyhhAAAzlBCAABnKCEAgDOUEADAGUoIAOAMJQQAcIYSAgA4QwkBAJyhhAAAzlBCAABn6j4h9Ar7wQ9+oLi4uDpvf/jwYfM+fv/735szktSqVStzpri42JzxM+xz+fLl5sywYcPMGcnf0Fg/6+vYsaM54+fYSdIXX3xhzvTr18+c+dd//VdzZsyYMeZMSUmJOSNJJ06cuCKZyw23vBA/50OfPn3MGUkaMWKEOeNneG6HDh3Mme9+97vmjORvEO6XX35p2v7kyZN13pYrIQCAM5QQAMCZei+hGTNmKBAI1Lr5+ewUAEDT1yDPCfXo0UPvvvtuzdcxMTENsRsAQCPXICXUsmVLrn4AAJfVIM8JFRUVKT09XZmZmbrvvvv0+eefX3TbaDSqSCRS6wYAaB7qvYRycnK0YMECLV++XC+++KJKS0s1cODAi76EOj8/X6FQqObm5+WXAIDGqd5LKC8vT/fcc4969uypYcOGaenSpZKk+fPnX3D7adOmKRwO19z8vq8BAND4NPibVdu2bauePXuqqKjogo8Hg0EFg8GGXgYA4CrU4O8Tikaj2rFjh9LS0hp6VwCARqbeS+jRRx9VYWGhiouLtW7dOv3gBz9QJBLR2LFj63tXAIBGrt5/Hbd3716NGTNGhw4dUrt27dS/f3+tXbtWGRkZ9b0rAEAjV+8l9Mc//rFe/j8ffPCBaVDonXfead6H35eDFxQUmDPf+c53zJk1a9aYM3fccYc5s337dnNGksrLy82ZG264wde+rFavXu0r9+Mf/9ic8TM8t02bNuaMnwGh+/btM2ckqWfPnubMp59+as4cPXrUnKmurjZnMjMzzRlJ2r17tzljHfYpSbm5ueaM3++tZTD0WZ7nNdj2zI4DADhDCQEAnKGEAADOUEIAAGcoIQCAM5QQAMAZSggA4AwlBABwhhICADhDCQEAnKGEAADOUEIAAGcCnnUyXQOLRCIKhUL6r//6L7Vu3brOOT+fV1RRUWHOSNLatWvNmVtuucWceffdd82Zb3/72+aMn2GakrRo0SJz5uTJk+ZM3759zZnS0lJzRpKOHz9uzgwaNMic8XO+bty40ZzxM2RWknr37m3OJCYmmjNz5841Z+6++25zZujQoeaMJI0ZM8acuVKfnda9e3dfOT+DkUeOHGna/sSJE3ryyScVDoeVkJBwyW25EgIAOEMJAQCcoYQAAM5QQgAAZyghAIAzlBAAwBlKCADgDCUEAHCGEgIAOEMJAQCcoYQAAM5QQgAAZyghAIAzLV0v4GL+8pe/qGXLui9vwIAB5n18/PHH5owk9ejRw5zZs2ePOfPII4+YM4sXLzZnKisrzRlJOnjwoDlz0003mTN+Br3fcMMN5owklZWVmTOtWrUyZ/bv32/OfPrpp+bMvffea85I0kcffWTOFBUVmTOjRo0yZ/z8LE2fPt2ckaSBAweaM36+t34mse/YscOckaSMjAxfuYbClRAAwBlKCADgDCUEAHCGEgIAOEMJAQCcoYQAAM5QQgAAZyghAIAzlBAAwBlKCADgDCUEAHCGEgIAOHPVDjDt3LmzYmNj67y9n6GBfjKS9J3vfMecWb58uTlz4sQJc2bnzp3mTEJCgjkjSY8++qg54+eYt2hh/7fSrl27zBnJ37DU8vJyc6ZTp07mTE5OjjkTDofNGUm6+eabzZnExERzxs9Q1qSkJHPme9/7njnjd19HjhwxZ/70pz+ZM126dDFnJOmb3/ymObN+/XrT9idPnqzztlwJAQCcoYQAAM5QQgAAZyghAIAzlBAAwBlKCADgDCUEAHCGEgIAOEMJAQCcoYQAAM5QQgAAZyghAIAzV+0A0+rqagUCgTpv37Vr1wZcTW2LFy82Z/wMrPQz3NGPNm3a+Mpt2LDBnPEzIPSmm24yZ7Kzs80ZSfrGN75hzuzdu9ec6dmzpzlz4MABc2bgwIHmjCT9+c9/NmfWrVtnzvTo0cOcsQzHPGvz5s3mjCRVVlaaM6FQyJwZP368ObN69WpzRpIyMjLMmcLCQtP2DDAFADQKlBAAwBlzCa1atUp33XWX0tPTFQgE9Prrr9d63PM8zZgxQ+np6YqLi9PgwYO1bdu2+lovAKAJMZdQRUWFsrOzNXv27As+/tRTT2nWrFmaPXu21q9fr9TUVA0fPtzXB38BAJo28wsT8vLylJeXd8HHPM/Tc889p+nTp2vUqFGSpPnz5yslJUWLFi3SQw899PVWCwBoUur1OaHi4mKVlpYqNze35r5gMKhBgwZpzZo1F8xEo1FFIpFaNwBA81CvJVRaWipJSklJqXV/SkpKzWPnys/PVygUqrl17NixPpcEALiKNcir4859f4/neRd9z8+0adMUDodrbiUlJQ2xJADAVahe36yampoq6cwVUVpaWs39ZWVl510dnRUMBhUMButzGQCARqJer4QyMzOVmpqqgoKCmvuqqqpUWFjo+53bAICmy3wldOzYsVrjZIqLi7V582YlJiaqU6dOmjJlimbOnKmuXbuqa9eumjlzptq0aaMf/ehH9bpwAEDjZy6hDRs2aMiQITVfT506VZI0duxY/f73v9fPfvYzVVZWasKECTpy5IhycnL0zjvvKD4+vv5WDQBoEgKen4mSDSgSiSgUCumxxx5T69at65xLT09vwFXVFg6HzZnjx4+bM0ePHjVnjh07Zs7ccsst5ox05letVm+88YY5c/3115szfgdW+vkzTZkyxZx5+eWXzZmioiJz5qc//ak5I8nX87QXe973Uiw/42f97W9/M2f8/MxK/gbhtmxpf6rdz1Dk2NhYc0byN6S3ffv2pu2j0aieeeYZhcNhJSQkXHJbZscBAJyhhAAAzlBCAABnKCEAgDOUEADAGUoIAOAMJQQAcIYSAgA4QwkBAJyhhAAAzlBCAABnKCEAgDOUEADAmXr9ZNX6VFZWZpoS+61vfcu8j//+7/82ZyRp2LBh5kyXLl3MmT/96U/mTE5OjjmzdetWc0Y681lSVr169TJnli5das7s2LHDnJGkP/zhD+bMhg0bzBk/05n9TIovLy83ZySpoqLCnIlEIuZM9+7dzRk/HwvjZ1q3JMXExJgz77//vjmTnJx8RTKSv/M1Li7OtL1lGj1XQgAAZyghAIAzlBAAwBlKCADgDCUEAHCGEgIAOEMJAQCcoYQAAM5QQgAAZyghAIAzlBAAwBlKCADgTMDzPM/1Ir4qEokoFApp4sSJCgaDdc6lpaWZ93X8+HFzRpKWLFlizgwfPtycadWqlTlz6tQpcyYhIcGckWQaMHuWn/Vdd9115sy+ffvMGUnavXu3OePnPLr99tvNmUOHDpkzlp+hr/LzfYpGo+bMtddea87s3bvXnHnjjTfMGUmaM2eOOfPhhx+aM5988ok506lTJ3NGktq1a2fOdO3a1bT98ePHdd999ykcDl/27xeuhAAAzlBCAABnKCEAgDOUEADAGUoIAOAMJQQAcIYSAgA4QwkBAJyhhAAAzlBCAABnKCEAgDOUEADAmat2gGlxcbFpsOZPfvIT875Gjx5tzkjSunXrzJnNmzebM36GXGZmZpozv/rVr8wZSbrxxhvNGT9/poqKCnMmJibGnJGkYcOGmTNPPvmkOeNnOG1iYqI58+abb5ozkpSUlGTO3HnnneaMnz/TZ599Zs7k5uaaM5J04sQJc8bPQOClS5eaM37+HpKk8ePHN/i+qqqqtGDBAgaYAgCubpQQAMAZSggA4AwlBABwhhICADhDCQEAnKGEAADOUEIAAGcoIQCAM5QQAMAZSggA4AwlBABwpqXrBVzMyy+/rNatW9d5+7vvvtu8jxdeeMGckaQHH3zQnNm5c6c542e44yeffGLO9OrVy5yR/A0j/fjjj82Z66+/3pz56KOPzBlJ2rJliznTuXNnc6ZHjx7mzK9//Wtz5s9//rM5I0lvv/22OZOdnW3OpKSkmDN+hgG/9NJL5owk3XTTTeaMn+G0R48eNWdmzZplzkjS008/bc5YB8BWVlbWeVuuhAAAzlBCAABnzCW0atUq3XXXXUpPT1cgENDrr79e6/Fx48YpEAjUuvXv37++1gsAaELMJVRRUaHs7GzNnj37otuMGDFCBw4cqLktW7bsay0SANA0mV+YkJeXp7y8vEtuEwwGlZqa6ntRAIDmoUGeE1q5cqWSk5PVrVs3PfDAAyorK7vottFoVJFIpNYNANA81HsJ5eXlaeHChVqxYoWeffZZrV+/XkOHDlU0Gr3g9vn5+QqFQjW3jh071veSAABXqXp/n9Do0aNr/jsrK0t9+vRRRkaGli5dqlGjRp23/bRp0zR16tSaryORCEUEAM1Eg79ZNS0tTRkZGSoqKrrg48FgUMFgsKGXAQC4CjX4+4QOHz6skpISpaWlNfSuAACNjPlK6NixY/r0009rvi4uLtbmzZuVmJioxMREzZgxQ/fcc4/S0tK0e/du/du//ZuSkpL0/e9/v14XDgBo/MwltGHDBg0ZMqTm67PP54wdO1bPP/+8tm7dqgULFujo0aNKS0vTkCFD9Morryg+Pr7+Vg0AaBICnud5rhfxVZFIRKFQSA899JDpuSI/gzEHDx5szkjyVaixsbHmzKVe2n4x4XDYnLnYKxcv59577zVnCgsLzZlt27aZM5bht18VCoXMmeHDh5szTz31lDkzaNAgcyYpKcmckaS//e1v5swXX3xhzqSnp5szH3zwgTlzxx13mDOS1KKF/RkLy/DOsw4ePGjOtG/f3pyR/H2f9u3bZ9q+urpaH3zwgcLhsBISEi65LbPjAADOUEIAAGcoIQCAM5QQAMAZSggA4AwlBABwhhICADhDCQEAnKGEAADOUEIAAGcoIQCAM5QQAMAZSggA4EyDf7KqX9dcc41pinbv3r3N+1iyZIk5I0k//OEPzZnFixebM1VVVeZMhw4dzJmf/vSn5ozkb8KwnynfM2bMMGfGjx9vzkhSv379zJnf/va35kxycrI5k5KSYs74mQounfmcMCs/U74DgYA5c/fdd5szl5vkfDHHjh0zZ7Kzs82Z+fPnmzN33nmnOSNJO3fuNGesE7uj0Widp51zJQQAcIYSAgA4QwkBAJyhhAAAzlBCAABnKCEAgDOUEADAGUoIAOAMJQQAcIYSAgA4QwkBAJyhhAAAzgQ8z/NcL+KrIpGIQqGQfvnLXyouLq7OuU8++cS8Lz/DPiV/QyHbtGljzhQWFpozffv2NWfeeustc0aS0tPTzZm9e/eaM7t27TJnHn74YXNGkg4dOmTO+Dkf/ByH06dPmzNZWVnmjCRVV1ebM6tWrTJnLD/jZ917773mjJ/BuZL0H//xH+bM7NmzzZm5c+eaM//wD/9gzkjSunXrzJnt27ebtq+urtbKlSsVDocvOzyWKyEAgDOUEADAGUoIAOAMJQQAcIYSAgA4QwkBAJyhhAAAzlBCAABnKCEAgDOUEADAGUoIAOAMJQQAcKal6wVczLFjx0xDFL/xjW+Y9/F///d/5ox0Zm1WnTp1Mmf8DNMsKCgwZy43YPBiSkpKzJnWrVubM926dTNn3njjDXNGkq677jpz5qGHHjJnDh48aM5s2bLFnPnss8/MGUkaOnSoObNz505zxs/PUvfu3c2ZoqIic0aSxowZY87ExsaaM0eOHDFn/JwPkhQTE2POpKWlmbavqqqq87ZcCQEAnKGEAADOUEIAAGcoIQCAM5QQAMAZSggA4AwlBABwhhICADhDCQEAnKGEAADOUEIAAGcoIQCAM1ftANOVK1eqVatWdd5+wIAB5n0MHjzYnJGkOXPmmDN9+/Y1Z7Zv327OjBgxwpxZu3atOSNJnTt3NmdSU1PNmZYt7adpjx49zBlJWrBggTnz/vvvmzOLFy82Z/wMwb3xxhvNGcnfkNAf/ehH5ozneebMu+++a860aOHv39t+jt/ChQvNmfvuu++K7EeS2rVrZ85YB82ePHmyzttyJQQAcIYSAgA4Yyqh/Px89e3bV/Hx8UpOTtbIkSPP+wwRz/M0Y8YMpaenKy4uToMHD9a2bdvqddEAgKbBVEKFhYWaOHGi1q5dq4KCAlVXVys3N1cVFRU12zz11FOaNWuWZs+erfXr1ys1NVXDhw9XeXl5vS8eANC4mZ7xffvtt2t9PW/ePCUnJ2vjxo26/fbb5XmennvuOU2fPl2jRo2SJM2fP18pKSlatGiRr0+gBAA0XV/rOaFwOCxJSkxMlCQVFxertLRUubm5NdsEg0ENGjRIa9asueD/IxqNKhKJ1LoBAJoH3yXkeZ6mTp2qW2+9VVlZWZKk0tJSSVJKSkqtbVNSUmoeO1d+fr5CoVDNrWPHjn6XBABoZHyX0KRJk7Rlyxa9/PLL5z0WCARqfe153nn3nTVt2jSFw+GaW0lJid8lAQAaGV9vVp08ebKWLFmiVatWqUOHDjX3n30jYmlpqdLS0mruLysrO+/q6KxgMKhgMOhnGQCARs50JeR5niZNmqRXX31VK1asUGZmZq3HMzMzlZqaqoKCgpr7qqqqVFhYqIEDB9bPigEATYbpSmjixIlatGiR/vrXvyo+Pr7meZ5QKKS4uDgFAgFNmTJFM2fOVNeuXdW1a1fNnDlTbdq08TXSAwDQtJlK6Pnnn5d0/sy1efPmady4cZKkn/3sZ6qsrNSECRN05MgR5eTk6J133lF8fHy9LBgA0HQEPD8TBBtQJBJRKBTSww8/bHquyM9QvoMHD5ozks77NWRd7Nu3z5zxM5T1yJEj5syOHTvMGUl67733fOWsevbsac60bt3a177mzp1rzvgZlnrDDTeYM0ePHjVnkpKSzBlJ+t73vmfOFBUVmTMnTpwwZ3bv3m3O7Nmzx5yRpAcffNCc2bp1qznTvn17c8avL7/80pyxnq+VlZX653/+Z4XDYSUkJFxyW2bHAQCcoYQAAM5QQgAAZyghAIAzlBAAwBlKCADgDCUEAHCGEgIAOEMJAQCcoYQAAM5QQgAAZyghAIAzlBAAwBlfn6x6JXz55ZeKjY2t8/YtW9r/KLt27TJnpDMTYq22b99uzviZdvviiy+aM48//rg5I0mdO3c2Z/xMIPczafmrn+xrcfbjSiyqqqrMmcOHD5szv/vd78yZO+64w5yRpOuuu86c2bhxoznjZ5p4p06dzBm/U6q3bNliznz++efmTElJiTnj9xOpu3fvbs6sXr3atL3lZ4IrIQCAM5QQAMAZSggA4AwlBABwhhICADhDCQEAnKGEAADOUEIAAGcoIQCAM5QQAMAZSggA4AwlBABw5qodYJqRkWEa0Odn2Gfr1q3NGUn66KOPzJns7GxzJhAImDMnT540Z9LT080Zyd+Qy1OnTpkzfgZC9ujRw5yR/B2/l156yZzxM8j1u9/9rjmzdetWc0aSIpGIOdOvXz9zZtOmTebMvn37zBk/Q08lqUuXLubMgw8+aM7MnTvXnBk6dKg5I0lFRUXmTKtWrUzbe55X5225EgIAOEMJAQCcoYQAAM5QQgAAZyghAIAzlBAAwBlKCADgDCUEAHCGEgIAOEMJAQCcoYQAAM5QQgAAZ67aAaZt27Y1DRh9/fXXzfvIysoyZyTp5z//uTnz1ltvmTNt27Y1Zx5++GFzZvLkyeaMJM2aNcucOXDggDkzZswYc2bx4sXmjCRt27bNnPEzLDU5OdmceeKJJ8wZP4MxJWnHjh3mzGuvvWbO3H///ebMvHnzzJnHH3/cnJH8/ayXl5ebM9XV1ebMwoULzRlJuueee8yZL774wrR9NBqt87ZcCQEAnKGEAADOUEIAAGcoIQCAM5QQAMAZSggA4AwlBABwhhICADhDCQEAnKGEAADOUEIAAGcoIQCAMwHP8zzXi/iqSCSiUCikxx57TMFgsM65srIy8752795tzvjdV3Z2tjnz2WefmTM5OTnmzIkTJ8wZSaYBs2edOnXKnLnmmmvMmT179pgzktS1a1dzpri42JzxM5T117/+tTnzrW99y5yRpJMnT5ozfoa/3nzzzebMm2++ac4MGjTInJGkQCBgzvgZYBobG2vOhEIhc0aSdu3aZc5Yh9N6nqfq6mqFw2ElJCRccluuhAAAzlBCAABnTCWUn5+vvn37Kj4+XsnJyRo5cqR27txZa5tx48YpEAjUuvXv379eFw0AaBpMJVRYWKiJEydq7dq1KigoUHV1tXJzc1VRUVFruxEjRujAgQM1t2XLltXrogEATYPpk1XffvvtWl/PmzdPycnJ2rhxo26//faa+4PBoFJTU+tnhQCAJutrPScUDoclSYmJibXuX7lypZKTk9WtWzc98MADl3w1WTQaVSQSqXUDADQPvkvI8zxNnTpVt956q7Kysmruz8vL08KFC7VixQo9++yzWr9+vYYOHXrRzxzPz89XKBSquXXs2NHvkgAAjYzp13FfNWnSJG3ZskXvv/9+rftHjx5d899ZWVnq06ePMjIytHTpUo0aNeq8/8+0adM0derUmq8jkQhFBADNhK8Smjx5spYsWaJVq1apQ4cOl9w2LS1NGRkZKioquuDjwWDQ9KZUAEDTYSohz/M0efJkvfbaa1q5cqUyMzMvmzl8+LBKSkqUlpbme5EAgKbJ9JzQxIkT9Yc//EGLFi1SfHy8SktLVVpaqsrKSknSsWPH9Oijj+rDDz/U7t27tXLlSt11111KSkrS97///Qb5AwAAGi/TldDzzz8vSRo8eHCt++fNm6dx48YpJiZGW7du1YIFC3T06FGlpaVpyJAheuWVVxQfH19viwYANA3mX8ddSlxcnJYvX/61FgQAaD58vzquod1www1q06ZNnbf/61//at7HT37yE3NGkn784x+bM88884w507t3b3OmZUv7t9TPNGxJNb+GtfAzYdhyHpz1ySefmDOSFBMTY860b9/enJkzZ445s3HjRnPm/vvvN2ck6Ze//KU54+cN6ue+Ab4ukpKSzJkf/vCH5owkvfPOO+bM//zP/5gzkyZNMmf8vqDrtttuM2fO/e3X5VRWVuqRRx6p07YMMAUAOEMJAQCcoYQAAM5QQgAAZyghAIAzlBAAwBlKCADgDCUEAHCGEgIAOEMJAQCcoYQAAM5QQgAAZwLe5UZjX2GRSEShUEgzZ840DdZMTEw072vDhg3mjCT17NnTnFm9erU5c/LkSXPmxIkT5kyXLl3MGcnf+tq2bWvOlJSUmDM5OTnmjORvfX6OeXZ2tjnjZ8jlyJEjzRnJ389TQUGBOdO3b19zxs+k/ltuucWckaTPPvvMnOnfv/8V2U/37t3NGUnKz883Z55++mnT9pWVlfqXf/kXhcNhJSQkXHJbroQAAM5QQgAAZyghAIAzlBAAwBlKCADgDCUEAHCGEgIAOEMJAQCcoYQAAM5QQgAAZyghAIAzLV0v4FxnR9lZ53FVVlaa91VVVWXOXMl9VVdXmzN+5rlFo1Fzxu++Wra0n3J+jp2f75EktWhh/3eZn9lxFRUV5sypU6fMGT9rk/wdvys169DPz4Xfn/Ur9Wfysz6/31s/40Kt58PZtdVlX1fdANO9e/eqY8eOrpcBAPiaSkpK1KFDh0tuc9WV0OnTp7V//37Fx8crEAjUeiwSiahjx44qKSm57GTWpozjcAbH4QyOwxkchzOuhuPgeZ7Ky8uVnp5+2d8uXHW/jmvRosVlmzMhIaFZn2RncRzO4DicwXE4g+NwhuvjEAqF6rQdL0wAADhDCQEAnGlUJRQMBvXEE08oGAy6XopTHIczOA5ncBzO4Dic0diOw1X3wgQAQPPRqK6EAABNCyUEAHCGEgIAOEMJAQCcaVQlNGfOHGVmZqp169bq3bu3Vq9e7XpJV9SMGTMUCARq3VJTU10vq8GtWrVKd911l9LT0xUIBPT666/XetzzPM2YMUPp6emKi4vT4MGDtW3bNjeLbUCXOw7jxo077/zo37+/m8U2kPz8fPXt21fx8fFKTk7WyJEjtXPnzlrbNIfzoS7HobGcD42mhF555RVNmTJF06dP16ZNm3TbbbcpLy9Pe/bscb20K6pHjx46cOBAzW3r1q2ul9TgKioqlJ2drdmzZ1/w8aeeekqzZs3S7NmztX79eqWmpmr48OEqLy+/wittWJc7DpI0YsSIWufHsmXLruAKG15hYaEmTpyotWvXqqCgQNXV1crNza01ELY5nA91OQ5SIzkfvEaiX79+3vjx42vd1717d++xxx5ztKIr74knnvCys7NdL8MpSd5rr71W8/Xp06e91NRU7xe/+EXNfSdOnPBCoZD3wgsvOFjhlXHucfA8zxs7dqx39913O1mPK2VlZZ4kr7Cw0PO85ns+nHscPK/xnA+N4kqoqqpKGzduVG5ubq37c3NztWbNGkercqOoqEjp6enKzMzUfffdp88//9z1kpwqLi5WaWlprXMjGAxq0KBBze7ckKSVK1cqOTlZ3bp10wMPPKCysjLXS2pQ4XBYkpSYmCip+Z4P5x6HsxrD+dAoSujQoUM6deqUUlJSat2fkpKi0tJSR6u68nJycrRgwQItX75cL774okpLSzVw4EAdPnzY9dKcOfv9b+7nhiTl5eVp4cKFWrFihZ599lmtX79eQ4cO9f15UVc7z/M0depU3XrrrcrKypLUPM+HCx0HqfGcD1fdFO1LOfejHTzPO+++piwvL6/mv3v27KkBAwaoc+fOmj9/vqZOnepwZe4193NDkkaPHl3z31lZWerTp48yMjK0dOlSjRo1yuHKGsakSZO0ZcsWvf/+++c91pzOh4sdh8ZyPjSKK6GkpCTFxMSc9y+ZsrKy8/7F05y0bdtWPXv2VFFRkeulOHP21YGcG+dLS0tTRkZGkzw/Jk+erCVLlui9996r9dEvze18uNhxuJCr9XxoFCUUGxur3r17q6CgoNb9BQUFGjhwoKNVuReNRrVjxw6lpaW5XoozmZmZSk1NrXVuVFVVqbCwsFmfG5J0+PBhlZSUNKnzw/M8TZo0Sa+++qpWrFihzMzMWo83l/PhcsfhQq7a88HhiyJM/vjHP3qtWrXyXnrpJW/79u3elClTvLZt23q7d+92vbQr5pFHHvFWrlzpff75597atWu9O++804uPj2/yx6C8vNzbtGmTt2nTJk+SN2vWLG/Tpk3e3//+d8/zPO8Xv/iFFwqFvFdffdXbunWrN2bMGC8tLc2LRCKOV16/LnUcysvLvUceecRbs2aNV1xc7L333nvegAEDvPbt2zep4/Dwww97oVDIW7lypXfgwIGa2/Hjx2u2aQ7nw+WOQ2M6HxpNCXme5/3mN7/xMjIyvNjYWK9Xr161Xo7YHIwePdpLS0vzWrVq5aWnp3ujRo3ytm3b5npZDe69997zJJ13Gzt2rOd5Z16W+8QTT3ipqaleMBj0br/9dm/r1q1uF90ALnUcjh8/7uXm5nrt2rXzWrVq5XXq1MkbO3ast2fPHtfLrlcX+vNL8ubNm1ezTXM4Hy53HBrT+cBHOQAAnGkUzwkBAJomSggA4AwlBABwhhICADhDCQEAnKGEAADOUEIAAGcoIQCAM5QQAMAZSggA4AwlBABwhhICADjz//whbXtUHg34AAAAAElFTkSuQmCC\n",
      "text/plain": [
       "<Figure size 640x480 with 1 Axes>"
      ]
     },
     "metadata": {},
     "output_type": "display_data"
    }
   ],
   "source": [
    "generated_img = generate_from_random_latent_vector(generator_net)\n",
    "display_image(generated_img)"
   ]
  },
  {
   "cell_type": "markdown",
   "metadata": {
    "id": "tKrM8J5EniQ7"
   },
   "source": [
    "\n",
    " \n",
    " \n",
    "<div style=\"background-color: #ccffcc; padding: 10px;\">    \n",
    "\n",
    "**Now is the time to go back and test the effect of latering those [Learning Rates](#Learning-Rates)**\n",
    "    \n",
    "Please feel free to experiment with the network architectures or hyperparameters. You could also try and intentionally cause the generator or discriminator to win and see what happens to the output.\n",
    "\n",
    "For any questions about using GANs, or how they could be applied to your own research problems please contact Caitlin Howarth at sccmho@leeds.ac.uk.\n",
    "</div>    \n",
    "\n",
    "<hr>"
   ]
  },
  {
   "cell_type": "markdown",
   "metadata": {},
   "source": [
    "<hr>\n",
    "\n",
    "\n",
    "<div style=\"background-color: #e6ccff; padding: 10px;\">\n",
    "    \n",
    "<h1> Earth Science Applications for GANS </h1>\n",
    "    \n",
    "Hopefully in the future we'll add an Earth Science specific tutorial to add but hopefully you can take the information you've learnt from this tutorial to underdtand these Earth Science applications.\n",
    "    \n",
    "# Met Office using GANs to predict Tropical Cyclones\n",
    "    \n",
    "The [MetOffice](https://github.com/MetOffice/) have a Git repo example [ML-TC](https://github.com/MetOffice/ML-TC), which takes open souce [Bangladesh Tropical Cyclone Data](https://doi.org/10.1038/s41597-021-00847-5) to train a Generative Adviserial Network to output synthetic tropical cyclone data. *WARNING if you chose to run these scripts the dataset download is over **100GB**. This is not suitable for running on your home laptop*     \n",
    "    \n",
    "# IBM using GANs for digitizing Earth Surface Sketches    \n",
    "    \n",
    "IMB have a short article and video using GANS to generate realistic synthetic seismic images from hand sketches. Read the article here: [Generating Sketch-Based Realistic Seismic Images with Generative Adversarial Networks, Rodrigo S. Ferreira, Julia Noce, Dario A. B. Oliveira and Emilio Vital Brazil](https://www.researchgate.net/publication/336573727_Generating_Sketch-Based_Synthetic_Seismic_Images_With_Generative_Adversarial_Networks).\n",
    "    \n",
    "Or view the video summary taken from the [IMB blog](https://www.ibm.com/blogs/research/2019/06/good-gans/) by running the cell below:\n",
    "\n",
    "</div>    "
   ]
  },
  {
   "cell_type": "code",
   "execution_count": 30,
   "metadata": {},
   "outputs": [
    {
     "data": {
      "text/html": [
       "<iframe width=\"560\" height=\"315\" src=\"https://www.youtube.com/embed/n69377yKd50\" title=\"GANs for Good: Digitizing Sketches of the Earth’s Surface with the AI Behind Deep Fakes\" frameborder=\"0\" allow=\"accelerometer; autoplay; clipboard-write; encrypted-media; gyroscope; picture-in-picture\" allowfullscreen></iframe>\n"
      ],
      "text/plain": [
       "<IPython.core.display.HTML object>"
      ]
     },
     "metadata": {},
     "output_type": "display_data"
    }
   ],
   "source": [
    "%%html\n",
    "<iframe width=\"560\" height=\"315\" src=\"https://www.youtube.com/embed/n69377yKd50\" title=\"GANs for Good: Digitizing Sketches of the Earth’s Surface with the AI Behind Deep Fakes\" frameborder=\"0\" allow=\"accelerometer; autoplay; clipboard-write; encrypted-media; gyroscope; picture-in-picture\" allowfullscreen></iframe>"
   ]
  },
  {
   "cell_type": "markdown",
   "metadata": {},
   "source": [
    "<div style=\"background-color: #ccffcc; padding: 10px;\">\n",
    "    \n",
    "Finally, if you have a good tutorial sized Earth Science aplication using GANs that you would like to share please get in touch via the [GitHub Repo](https://github.com/cemac/LIFD_GenerativeAdversarialNetworks).     \n",
    "    \n",
    "</div>      \n"
   ]
  },
  {
   "cell_type": "code",
   "execution_count": 47,
   "metadata": {},
   "outputs": [
    {
     "data": {
      "text/plain": [
       "<bound method Module.load_state_dict of GeneratorNet(\n",
       "  (net): Sequential(\n",
       "    (0): Linear(in_features=100, out_features=256, bias=True)\n",
       "    (1): BatchNorm1d(256, eps=1e-05, momentum=0.1, affine=True, track_running_stats=True)\n",
       "    (2): LeakyReLU(negative_slope=0.2)\n",
       "    (3): Linear(in_features=256, out_features=512, bias=True)\n",
       "    (4): BatchNorm1d(512, eps=1e-05, momentum=0.1, affine=True, track_running_stats=True)\n",
       "    (5): LeakyReLU(negative_slope=0.2)\n",
       "    (6): Linear(in_features=512, out_features=1024, bias=True)\n",
       "    (7): BatchNorm1d(1024, eps=1e-05, momentum=0.1, affine=True, track_running_stats=True)\n",
       "    (8): LeakyReLU(negative_slope=0.2)\n",
       "    (9): Linear(in_features=1024, out_features=784, bias=True)\n",
       "    (10): Tanh()\n",
       "  )\n",
       ")>"
      ]
     },
     "execution_count": 47,
     "metadata": {},
     "output_type": "execute_result"
    }
   ],
   "source": [
    "generator_net.load_state_dict"
   ]
  },
  {
   "cell_type": "code",
   "execution_count": null,
   "metadata": {},
   "outputs": [],
   "source": []
  }
 ],
 "metadata": {
  "accelerator": "GPU",
  "colab": {
   "name": "Copy of gan_intro.ipynb",
   "provenance": []
  },
  "kernelspec": {
   "display_name": "Python 3 (ipykernel)",
   "language": "python",
   "name": "python3"
  },
  "language_info": {
   "codemirror_mode": {
    "name": "ipython",
    "version": 3
   },
   "file_extension": ".py",
   "mimetype": "text/x-python",
   "name": "python",
   "nbconvert_exporter": "python",
   "pygments_lexer": "ipython3",
   "version": "3.8.15"
  },
  "widgets": {
   "application/vnd.jupyter.widget-state+json": {
    "016a20ec7ebc4b448654310bdbc1ef04": {
     "model_module": "@jupyter-widgets/controls",
     "model_module_version": "1.5.0",
     "model_name": "FloatProgressModel",
     "state": {
      "_dom_classes": [],
      "_model_module": "@jupyter-widgets/controls",
      "_model_module_version": "1.5.0",
      "_model_name": "FloatProgressModel",
      "_view_count": null,
      "_view_module": "@jupyter-widgets/controls",
      "_view_module_version": "1.5.0",
      "_view_name": "ProgressView",
      "bar_style": "success",
      "description": "",
      "description_tooltip": null,
      "layout": "IPY_MODEL_83c0ee38e3864a6583ee0b15b611f9d2",
      "max": 28881,
      "min": 0,
      "orientation": "horizontal",
      "style": "IPY_MODEL_8028397c30584cbd93961ec8819dc737",
      "value": 28881
     }
    },
    "05c68d288d9b481b92de797ec708262f": {
     "model_module": "@jupyter-widgets/controls",
     "model_module_version": "1.5.0",
     "model_name": "DescriptionStyleModel",
     "state": {
      "_model_module": "@jupyter-widgets/controls",
      "_model_module_version": "1.5.0",
      "_model_name": "DescriptionStyleModel",
      "_view_count": null,
      "_view_module": "@jupyter-widgets/base",
      "_view_module_version": "1.2.0",
      "_view_name": "StyleView",
      "description_width": ""
     }
    },
    "08e8491a188b4d4ba5508d93aecc4d55": {
     "model_module": "@jupyter-widgets/controls",
     "model_module_version": "1.5.0",
     "model_name": "ProgressStyleModel",
     "state": {
      "_model_module": "@jupyter-widgets/controls",
      "_model_module_version": "1.5.0",
      "_model_name": "ProgressStyleModel",
      "_view_count": null,
      "_view_module": "@jupyter-widgets/base",
      "_view_module_version": "1.2.0",
      "_view_name": "StyleView",
      "bar_color": null,
      "description_width": ""
     }
    },
    "0c360d889aa74a8b807f7ae0d29adbdb": {
     "model_module": "@jupyter-widgets/base",
     "model_module_version": "1.2.0",
     "model_name": "LayoutModel",
     "state": {
      "_model_module": "@jupyter-widgets/base",
      "_model_module_version": "1.2.0",
      "_model_name": "LayoutModel",
      "_view_count": null,
      "_view_module": "@jupyter-widgets/base",
      "_view_module_version": "1.2.0",
      "_view_name": "LayoutView",
      "align_content": null,
      "align_items": null,
      "align_self": null,
      "border": null,
      "bottom": null,
      "display": null,
      "flex": null,
      "flex_flow": null,
      "grid_area": null,
      "grid_auto_columns": null,
      "grid_auto_flow": null,
      "grid_auto_rows": null,
      "grid_column": null,
      "grid_gap": null,
      "grid_row": null,
      "grid_template_areas": null,
      "grid_template_columns": null,
      "grid_template_rows": null,
      "height": null,
      "justify_content": null,
      "justify_items": null,
      "left": null,
      "margin": null,
      "max_height": null,
      "max_width": null,
      "min_height": null,
      "min_width": null,
      "object_fit": null,
      "object_position": null,
      "order": null,
      "overflow": null,
      "overflow_x": null,
      "overflow_y": null,
      "padding": null,
      "right": null,
      "top": null,
      "visibility": null,
      "width": null
     }
    },
    "14b83f4fac694d60b4e34ea1187bc7e8": {
     "model_module": "@jupyter-widgets/controls",
     "model_module_version": "1.5.0",
     "model_name": "HTMLModel",
     "state": {
      "_dom_classes": [],
      "_model_module": "@jupyter-widgets/controls",
      "_model_module_version": "1.5.0",
      "_model_name": "HTMLModel",
      "_view_count": null,
      "_view_module": "@jupyter-widgets/controls",
      "_view_module_version": "1.5.0",
      "_view_name": "HTMLView",
      "description": "",
      "description_tooltip": null,
      "layout": "IPY_MODEL_62f2795555af46929d949dd5cde4e856",
      "placeholder": "​",
      "style": "IPY_MODEL_51d83770272845efb84c480a94844112",
      "value": ""
     }
    },
    "16373be927704a4586318a6bbf079b01": {
     "model_module": "@jupyter-widgets/controls",
     "model_module_version": "1.5.0",
     "model_name": "DescriptionStyleModel",
     "state": {
      "_model_module": "@jupyter-widgets/controls",
      "_model_module_version": "1.5.0",
      "_model_name": "DescriptionStyleModel",
      "_view_count": null,
      "_view_module": "@jupyter-widgets/base",
      "_view_module_version": "1.2.0",
      "_view_name": "StyleView",
      "description_width": ""
     }
    },
    "1884061b62a247c89ba5ec1f3d3bc87b": {
     "model_module": "@jupyter-widgets/controls",
     "model_module_version": "1.5.0",
     "model_name": "HTMLModel",
     "state": {
      "_dom_classes": [],
      "_model_module": "@jupyter-widgets/controls",
      "_model_module_version": "1.5.0",
      "_model_name": "HTMLModel",
      "_view_count": null,
      "_view_module": "@jupyter-widgets/controls",
      "_view_module_version": "1.5.0",
      "_view_name": "HTMLView",
      "description": "",
      "description_tooltip": null,
      "layout": "IPY_MODEL_852b3192156e40d7917b54706dce8984",
      "placeholder": "​",
      "style": "IPY_MODEL_05c68d288d9b481b92de797ec708262f",
      "value": ""
     }
    },
    "20d6f33ca8ec4a2da15c798ac303280d": {
     "model_module": "@jupyter-widgets/base",
     "model_module_version": "1.2.0",
     "model_name": "LayoutModel",
     "state": {
      "_model_module": "@jupyter-widgets/base",
      "_model_module_version": "1.2.0",
      "_model_name": "LayoutModel",
      "_view_count": null,
      "_view_module": "@jupyter-widgets/base",
      "_view_module_version": "1.2.0",
      "_view_name": "LayoutView",
      "align_content": null,
      "align_items": null,
      "align_self": null,
      "border": null,
      "bottom": null,
      "display": null,
      "flex": null,
      "flex_flow": null,
      "grid_area": null,
      "grid_auto_columns": null,
      "grid_auto_flow": null,
      "grid_auto_rows": null,
      "grid_column": null,
      "grid_gap": null,
      "grid_row": null,
      "grid_template_areas": null,
      "grid_template_columns": null,
      "grid_template_rows": null,
      "height": null,
      "justify_content": null,
      "justify_items": null,
      "left": null,
      "margin": null,
      "max_height": null,
      "max_width": null,
      "min_height": null,
      "min_width": null,
      "object_fit": null,
      "object_position": null,
      "order": null,
      "overflow": null,
      "overflow_x": null,
      "overflow_y": null,
      "padding": null,
      "right": null,
      "top": null,
      "visibility": null,
      "width": null
     }
    },
    "2142f99e9f76444581bb3dfc46c8d8d6": {
     "model_module": "@jupyter-widgets/base",
     "model_module_version": "1.2.0",
     "model_name": "LayoutModel",
     "state": {
      "_model_module": "@jupyter-widgets/base",
      "_model_module_version": "1.2.0",
      "_model_name": "LayoutModel",
      "_view_count": null,
      "_view_module": "@jupyter-widgets/base",
      "_view_module_version": "1.2.0",
      "_view_name": "LayoutView",
      "align_content": null,
      "align_items": null,
      "align_self": null,
      "border": null,
      "bottom": null,
      "display": null,
      "flex": null,
      "flex_flow": null,
      "grid_area": null,
      "grid_auto_columns": null,
      "grid_auto_flow": null,
      "grid_auto_rows": null,
      "grid_column": null,
      "grid_gap": null,
      "grid_row": null,
      "grid_template_areas": null,
      "grid_template_columns": null,
      "grid_template_rows": null,
      "height": null,
      "justify_content": null,
      "justify_items": null,
      "left": null,
      "margin": null,
      "max_height": null,
      "max_width": null,
      "min_height": null,
      "min_width": null,
      "object_fit": null,
      "object_position": null,
      "order": null,
      "overflow": null,
      "overflow_x": null,
      "overflow_y": null,
      "padding": null,
      "right": null,
      "top": null,
      "visibility": null,
      "width": null
     }
    },
    "2e024e821363416594693388883e6a22": {
     "model_module": "@jupyter-widgets/base",
     "model_module_version": "1.2.0",
     "model_name": "LayoutModel",
     "state": {
      "_model_module": "@jupyter-widgets/base",
      "_model_module_version": "1.2.0",
      "_model_name": "LayoutModel",
      "_view_count": null,
      "_view_module": "@jupyter-widgets/base",
      "_view_module_version": "1.2.0",
      "_view_name": "LayoutView",
      "align_content": null,
      "align_items": null,
      "align_self": null,
      "border": null,
      "bottom": null,
      "display": null,
      "flex": null,
      "flex_flow": null,
      "grid_area": null,
      "grid_auto_columns": null,
      "grid_auto_flow": null,
      "grid_auto_rows": null,
      "grid_column": null,
      "grid_gap": null,
      "grid_row": null,
      "grid_template_areas": null,
      "grid_template_columns": null,
      "grid_template_rows": null,
      "height": null,
      "justify_content": null,
      "justify_items": null,
      "left": null,
      "margin": null,
      "max_height": null,
      "max_width": null,
      "min_height": null,
      "min_width": null,
      "object_fit": null,
      "object_position": null,
      "order": null,
      "overflow": null,
      "overflow_x": null,
      "overflow_y": null,
      "padding": null,
      "right": null,
      "top": null,
      "visibility": null,
      "width": null
     }
    },
    "3593b4170d074f628eec5097b44fcf4e": {
     "model_module": "@jupyter-widgets/base",
     "model_module_version": "1.2.0",
     "model_name": "LayoutModel",
     "state": {
      "_model_module": "@jupyter-widgets/base",
      "_model_module_version": "1.2.0",
      "_model_name": "LayoutModel",
      "_view_count": null,
      "_view_module": "@jupyter-widgets/base",
      "_view_module_version": "1.2.0",
      "_view_name": "LayoutView",
      "align_content": null,
      "align_items": null,
      "align_self": null,
      "border": null,
      "bottom": null,
      "display": null,
      "flex": null,
      "flex_flow": null,
      "grid_area": null,
      "grid_auto_columns": null,
      "grid_auto_flow": null,
      "grid_auto_rows": null,
      "grid_column": null,
      "grid_gap": null,
      "grid_row": null,
      "grid_template_areas": null,
      "grid_template_columns": null,
      "grid_template_rows": null,
      "height": null,
      "justify_content": null,
      "justify_items": null,
      "left": null,
      "margin": null,
      "max_height": null,
      "max_width": null,
      "min_height": null,
      "min_width": null,
      "object_fit": null,
      "object_position": null,
      "order": null,
      "overflow": null,
      "overflow_x": null,
      "overflow_y": null,
      "padding": null,
      "right": null,
      "top": null,
      "visibility": null,
      "width": null
     }
    },
    "3d62e0765df84d449f831d47d1d43da0": {
     "model_module": "@jupyter-widgets/base",
     "model_module_version": "1.2.0",
     "model_name": "LayoutModel",
     "state": {
      "_model_module": "@jupyter-widgets/base",
      "_model_module_version": "1.2.0",
      "_model_name": "LayoutModel",
      "_view_count": null,
      "_view_module": "@jupyter-widgets/base",
      "_view_module_version": "1.2.0",
      "_view_name": "LayoutView",
      "align_content": null,
      "align_items": null,
      "align_self": null,
      "border": null,
      "bottom": null,
      "display": null,
      "flex": null,
      "flex_flow": null,
      "grid_area": null,
      "grid_auto_columns": null,
      "grid_auto_flow": null,
      "grid_auto_rows": null,
      "grid_column": null,
      "grid_gap": null,
      "grid_row": null,
      "grid_template_areas": null,
      "grid_template_columns": null,
      "grid_template_rows": null,
      "height": null,
      "justify_content": null,
      "justify_items": null,
      "left": null,
      "margin": null,
      "max_height": null,
      "max_width": null,
      "min_height": null,
      "min_width": null,
      "object_fit": null,
      "object_position": null,
      "order": null,
      "overflow": null,
      "overflow_x": null,
      "overflow_y": null,
      "padding": null,
      "right": null,
      "top": null,
      "visibility": null,
      "width": null
     }
    },
    "4304c3b333974f32a2fc4b317dde986c": {
     "model_module": "@jupyter-widgets/controls",
     "model_module_version": "1.5.0",
     "model_name": "FloatProgressModel",
     "state": {
      "_dom_classes": [],
      "_model_module": "@jupyter-widgets/controls",
      "_model_module_version": "1.5.0",
      "_model_name": "FloatProgressModel",
      "_view_count": null,
      "_view_module": "@jupyter-widgets/controls",
      "_view_module_version": "1.5.0",
      "_view_name": "ProgressView",
      "bar_style": "success",
      "description": "",
      "description_tooltip": null,
      "layout": "IPY_MODEL_4e05c783400c44dfbf1c918156aeface",
      "max": 1648877,
      "min": 0,
      "orientation": "horizontal",
      "style": "IPY_MODEL_bcf3c439b54f45978300130c48a3a830",
      "value": 1648877
     }
    },
    "434dc2bb338544849897e59cef9c227b": {
     "model_module": "@jupyter-widgets/controls",
     "model_module_version": "1.5.0",
     "model_name": "DescriptionStyleModel",
     "state": {
      "_model_module": "@jupyter-widgets/controls",
      "_model_module_version": "1.5.0",
      "_model_name": "DescriptionStyleModel",
      "_view_count": null,
      "_view_module": "@jupyter-widgets/base",
      "_view_module_version": "1.2.0",
      "_view_name": "StyleView",
      "description_width": ""
     }
    },
    "4930f5e49ae34727b2d565ba6abbba29": {
     "model_module": "@jupyter-widgets/base",
     "model_module_version": "1.2.0",
     "model_name": "LayoutModel",
     "state": {
      "_model_module": "@jupyter-widgets/base",
      "_model_module_version": "1.2.0",
      "_model_name": "LayoutModel",
      "_view_count": null,
      "_view_module": "@jupyter-widgets/base",
      "_view_module_version": "1.2.0",
      "_view_name": "LayoutView",
      "align_content": null,
      "align_items": null,
      "align_self": null,
      "border": null,
      "bottom": null,
      "display": null,
      "flex": null,
      "flex_flow": null,
      "grid_area": null,
      "grid_auto_columns": null,
      "grid_auto_flow": null,
      "grid_auto_rows": null,
      "grid_column": null,
      "grid_gap": null,
      "grid_row": null,
      "grid_template_areas": null,
      "grid_template_columns": null,
      "grid_template_rows": null,
      "height": null,
      "justify_content": null,
      "justify_items": null,
      "left": null,
      "margin": null,
      "max_height": null,
      "max_width": null,
      "min_height": null,
      "min_width": null,
      "object_fit": null,
      "object_position": null,
      "order": null,
      "overflow": null,
      "overflow_x": null,
      "overflow_y": null,
      "padding": null,
      "right": null,
      "top": null,
      "visibility": null,
      "width": null
     }
    },
    "49a2bbad317a42a8baafa935f3b1f24d": {
     "model_module": "@jupyter-widgets/controls",
     "model_module_version": "1.5.0",
     "model_name": "HTMLModel",
     "state": {
      "_dom_classes": [],
      "_model_module": "@jupyter-widgets/controls",
      "_model_module_version": "1.5.0",
      "_model_name": "HTMLModel",
      "_view_count": null,
      "_view_module": "@jupyter-widgets/controls",
      "_view_module_version": "1.5.0",
      "_view_name": "HTMLView",
      "description": "",
      "description_tooltip": null,
      "layout": "IPY_MODEL_3d62e0765df84d449f831d47d1d43da0",
      "placeholder": "​",
      "style": "IPY_MODEL_cbc8fd9400844d44bf43e1d39d536f4e",
      "value": " 9913344/? [00:00&lt;00:00, 20994936.87it/s]"
     }
    },
    "4b4a9796717a4f8488d8de07995908ab": {
     "model_module": "@jupyter-widgets/base",
     "model_module_version": "1.2.0",
     "model_name": "LayoutModel",
     "state": {
      "_model_module": "@jupyter-widgets/base",
      "_model_module_version": "1.2.0",
      "_model_name": "LayoutModel",
      "_view_count": null,
      "_view_module": "@jupyter-widgets/base",
      "_view_module_version": "1.2.0",
      "_view_name": "LayoutView",
      "align_content": null,
      "align_items": null,
      "align_self": null,
      "border": null,
      "bottom": null,
      "display": null,
      "flex": null,
      "flex_flow": null,
      "grid_area": null,
      "grid_auto_columns": null,
      "grid_auto_flow": null,
      "grid_auto_rows": null,
      "grid_column": null,
      "grid_gap": null,
      "grid_row": null,
      "grid_template_areas": null,
      "grid_template_columns": null,
      "grid_template_rows": null,
      "height": null,
      "justify_content": null,
      "justify_items": null,
      "left": null,
      "margin": null,
      "max_height": null,
      "max_width": null,
      "min_height": null,
      "min_width": null,
      "object_fit": null,
      "object_position": null,
      "order": null,
      "overflow": null,
      "overflow_x": null,
      "overflow_y": null,
      "padding": null,
      "right": null,
      "top": null,
      "visibility": null,
      "width": null
     }
    },
    "4e05c783400c44dfbf1c918156aeface": {
     "model_module": "@jupyter-widgets/base",
     "model_module_version": "1.2.0",
     "model_name": "LayoutModel",
     "state": {
      "_model_module": "@jupyter-widgets/base",
      "_model_module_version": "1.2.0",
      "_model_name": "LayoutModel",
      "_view_count": null,
      "_view_module": "@jupyter-widgets/base",
      "_view_module_version": "1.2.0",
      "_view_name": "LayoutView",
      "align_content": null,
      "align_items": null,
      "align_self": null,
      "border": null,
      "bottom": null,
      "display": null,
      "flex": null,
      "flex_flow": null,
      "grid_area": null,
      "grid_auto_columns": null,
      "grid_auto_flow": null,
      "grid_auto_rows": null,
      "grid_column": null,
      "grid_gap": null,
      "grid_row": null,
      "grid_template_areas": null,
      "grid_template_columns": null,
      "grid_template_rows": null,
      "height": null,
      "justify_content": null,
      "justify_items": null,
      "left": null,
      "margin": null,
      "max_height": null,
      "max_width": null,
      "min_height": null,
      "min_width": null,
      "object_fit": null,
      "object_position": null,
      "order": null,
      "overflow": null,
      "overflow_x": null,
      "overflow_y": null,
      "padding": null,
      "right": null,
      "top": null,
      "visibility": null,
      "width": null
     }
    },
    "4f411ea3756f43aa98e2c2ac9e260402": {
     "model_module": "@jupyter-widgets/controls",
     "model_module_version": "1.5.0",
     "model_name": "HTMLModel",
     "state": {
      "_dom_classes": [],
      "_model_module": "@jupyter-widgets/controls",
      "_model_module_version": "1.5.0",
      "_model_name": "HTMLModel",
      "_view_count": null,
      "_view_module": "@jupyter-widgets/controls",
      "_view_module_version": "1.5.0",
      "_view_name": "HTMLView",
      "description": "",
      "description_tooltip": null,
      "layout": "IPY_MODEL_2142f99e9f76444581bb3dfc46c8d8d6",
      "placeholder": "​",
      "style": "IPY_MODEL_16373be927704a4586318a6bbf079b01",
      "value": " 1649664/? [00:00&lt;00:00, 3713281.49it/s]"
     }
    },
    "51d83770272845efb84c480a94844112": {
     "model_module": "@jupyter-widgets/controls",
     "model_module_version": "1.5.0",
     "model_name": "DescriptionStyleModel",
     "state": {
      "_model_module": "@jupyter-widgets/controls",
      "_model_module_version": "1.5.0",
      "_model_name": "DescriptionStyleModel",
      "_view_count": null,
      "_view_module": "@jupyter-widgets/base",
      "_view_module_version": "1.2.0",
      "_view_name": "StyleView",
      "description_width": ""
     }
    },
    "62f2795555af46929d949dd5cde4e856": {
     "model_module": "@jupyter-widgets/base",
     "model_module_version": "1.2.0",
     "model_name": "LayoutModel",
     "state": {
      "_model_module": "@jupyter-widgets/base",
      "_model_module_version": "1.2.0",
      "_model_name": "LayoutModel",
      "_view_count": null,
      "_view_module": "@jupyter-widgets/base",
      "_view_module_version": "1.2.0",
      "_view_name": "LayoutView",
      "align_content": null,
      "align_items": null,
      "align_self": null,
      "border": null,
      "bottom": null,
      "display": null,
      "flex": null,
      "flex_flow": null,
      "grid_area": null,
      "grid_auto_columns": null,
      "grid_auto_flow": null,
      "grid_auto_rows": null,
      "grid_column": null,
      "grid_gap": null,
      "grid_row": null,
      "grid_template_areas": null,
      "grid_template_columns": null,
      "grid_template_rows": null,
      "height": null,
      "justify_content": null,
      "justify_items": null,
      "left": null,
      "margin": null,
      "max_height": null,
      "max_width": null,
      "min_height": null,
      "min_width": null,
      "object_fit": null,
      "object_position": null,
      "order": null,
      "overflow": null,
      "overflow_x": null,
      "overflow_y": null,
      "padding": null,
      "right": null,
      "top": null,
      "visibility": null,
      "width": null
     }
    },
    "63343150949148afa8687e3f454a4222": {
     "model_module": "@jupyter-widgets/controls",
     "model_module_version": "1.5.0",
     "model_name": "HTMLModel",
     "state": {
      "_dom_classes": [],
      "_model_module": "@jupyter-widgets/controls",
      "_model_module_version": "1.5.0",
      "_model_name": "HTMLModel",
      "_view_count": null,
      "_view_module": "@jupyter-widgets/controls",
      "_view_module_version": "1.5.0",
      "_view_name": "HTMLView",
      "description": "",
      "description_tooltip": null,
      "layout": "IPY_MODEL_2e024e821363416594693388883e6a22",
      "placeholder": "​",
      "style": "IPY_MODEL_b073f424f56f43ffa27e0673c33d8296",
      "value": " 5120/? [00:00&lt;00:00, 9856.68it/s]"
     }
    },
    "685dd17bdbd242a6b8aae154168e11c1": {
     "model_module": "@jupyter-widgets/controls",
     "model_module_version": "1.5.0",
     "model_name": "HBoxModel",
     "state": {
      "_dom_classes": [],
      "_model_module": "@jupyter-widgets/controls",
      "_model_module_version": "1.5.0",
      "_model_name": "HBoxModel",
      "_view_count": null,
      "_view_module": "@jupyter-widgets/controls",
      "_view_module_version": "1.5.0",
      "_view_name": "HBoxView",
      "box_style": "",
      "children": [
       "IPY_MODEL_1884061b62a247c89ba5ec1f3d3bc87b",
       "IPY_MODEL_7ed4f66c82614d58a2b51ca4284279ae",
       "IPY_MODEL_49a2bbad317a42a8baafa935f3b1f24d"
      ],
      "layout": "IPY_MODEL_8bf6c9121e0d492e9583973ceb432fe9"
     }
    },
    "6d6df8f8006e4229af72cda52b8f139c": {
     "model_module": "@jupyter-widgets/controls",
     "model_module_version": "1.5.0",
     "model_name": "ProgressStyleModel",
     "state": {
      "_model_module": "@jupyter-widgets/controls",
      "_model_module_version": "1.5.0",
      "_model_name": "ProgressStyleModel",
      "_view_count": null,
      "_view_module": "@jupyter-widgets/base",
      "_view_module_version": "1.2.0",
      "_view_name": "StyleView",
      "bar_color": null,
      "description_width": ""
     }
    },
    "6ed6edca08364822b93cccd9d51e59c9": {
     "model_module": "@jupyter-widgets/controls",
     "model_module_version": "1.5.0",
     "model_name": "HBoxModel",
     "state": {
      "_dom_classes": [],
      "_model_module": "@jupyter-widgets/controls",
      "_model_module_version": "1.5.0",
      "_model_name": "HBoxModel",
      "_view_count": null,
      "_view_module": "@jupyter-widgets/controls",
      "_view_module_version": "1.5.0",
      "_view_name": "HBoxView",
      "box_style": "",
      "children": [
       "IPY_MODEL_14b83f4fac694d60b4e34ea1187bc7e8",
       "IPY_MODEL_faff639a61ce41c99bce8254a89a9e38",
       "IPY_MODEL_63343150949148afa8687e3f454a4222"
      ],
      "layout": "IPY_MODEL_7a01cc7bcdfb406092918c33b2d218f4"
     }
    },
    "7a01cc7bcdfb406092918c33b2d218f4": {
     "model_module": "@jupyter-widgets/base",
     "model_module_version": "1.2.0",
     "model_name": "LayoutModel",
     "state": {
      "_model_module": "@jupyter-widgets/base",
      "_model_module_version": "1.2.0",
      "_model_name": "LayoutModel",
      "_view_count": null,
      "_view_module": "@jupyter-widgets/base",
      "_view_module_version": "1.2.0",
      "_view_name": "LayoutView",
      "align_content": null,
      "align_items": null,
      "align_self": null,
      "border": null,
      "bottom": null,
      "display": null,
      "flex": null,
      "flex_flow": null,
      "grid_area": null,
      "grid_auto_columns": null,
      "grid_auto_flow": null,
      "grid_auto_rows": null,
      "grid_column": null,
      "grid_gap": null,
      "grid_row": null,
      "grid_template_areas": null,
      "grid_template_columns": null,
      "grid_template_rows": null,
      "height": null,
      "justify_content": null,
      "justify_items": null,
      "left": null,
      "margin": null,
      "max_height": null,
      "max_width": null,
      "min_height": null,
      "min_width": null,
      "object_fit": null,
      "object_position": null,
      "order": null,
      "overflow": null,
      "overflow_x": null,
      "overflow_y": null,
      "padding": null,
      "right": null,
      "top": null,
      "visibility": null,
      "width": null
     }
    },
    "7ed4f66c82614d58a2b51ca4284279ae": {
     "model_module": "@jupyter-widgets/controls",
     "model_module_version": "1.5.0",
     "model_name": "FloatProgressModel",
     "state": {
      "_dom_classes": [],
      "_model_module": "@jupyter-widgets/controls",
      "_model_module_version": "1.5.0",
      "_model_name": "FloatProgressModel",
      "_view_count": null,
      "_view_module": "@jupyter-widgets/controls",
      "_view_module_version": "1.5.0",
      "_view_name": "ProgressView",
      "bar_style": "success",
      "description": "",
      "description_tooltip": null,
      "layout": "IPY_MODEL_4b4a9796717a4f8488d8de07995908ab",
      "max": 9912422,
      "min": 0,
      "orientation": "horizontal",
      "style": "IPY_MODEL_08e8491a188b4d4ba5508d93aecc4d55",
      "value": 9912422
     }
    },
    "8028397c30584cbd93961ec8819dc737": {
     "model_module": "@jupyter-widgets/controls",
     "model_module_version": "1.5.0",
     "model_name": "ProgressStyleModel",
     "state": {
      "_model_module": "@jupyter-widgets/controls",
      "_model_module_version": "1.5.0",
      "_model_name": "ProgressStyleModel",
      "_view_count": null,
      "_view_module": "@jupyter-widgets/base",
      "_view_module_version": "1.2.0",
      "_view_name": "StyleView",
      "bar_color": null,
      "description_width": ""
     }
    },
    "83c0ee38e3864a6583ee0b15b611f9d2": {
     "model_module": "@jupyter-widgets/base",
     "model_module_version": "1.2.0",
     "model_name": "LayoutModel",
     "state": {
      "_model_module": "@jupyter-widgets/base",
      "_model_module_version": "1.2.0",
      "_model_name": "LayoutModel",
      "_view_count": null,
      "_view_module": "@jupyter-widgets/base",
      "_view_module_version": "1.2.0",
      "_view_name": "LayoutView",
      "align_content": null,
      "align_items": null,
      "align_self": null,
      "border": null,
      "bottom": null,
      "display": null,
      "flex": null,
      "flex_flow": null,
      "grid_area": null,
      "grid_auto_columns": null,
      "grid_auto_flow": null,
      "grid_auto_rows": null,
      "grid_column": null,
      "grid_gap": null,
      "grid_row": null,
      "grid_template_areas": null,
      "grid_template_columns": null,
      "grid_template_rows": null,
      "height": null,
      "justify_content": null,
      "justify_items": null,
      "left": null,
      "margin": null,
      "max_height": null,
      "max_width": null,
      "min_height": null,
      "min_width": null,
      "object_fit": null,
      "object_position": null,
      "order": null,
      "overflow": null,
      "overflow_x": null,
      "overflow_y": null,
      "padding": null,
      "right": null,
      "top": null,
      "visibility": null,
      "width": null
     }
    },
    "852b3192156e40d7917b54706dce8984": {
     "model_module": "@jupyter-widgets/base",
     "model_module_version": "1.2.0",
     "model_name": "LayoutModel",
     "state": {
      "_model_module": "@jupyter-widgets/base",
      "_model_module_version": "1.2.0",
      "_model_name": "LayoutModel",
      "_view_count": null,
      "_view_module": "@jupyter-widgets/base",
      "_view_module_version": "1.2.0",
      "_view_name": "LayoutView",
      "align_content": null,
      "align_items": null,
      "align_self": null,
      "border": null,
      "bottom": null,
      "display": null,
      "flex": null,
      "flex_flow": null,
      "grid_area": null,
      "grid_auto_columns": null,
      "grid_auto_flow": null,
      "grid_auto_rows": null,
      "grid_column": null,
      "grid_gap": null,
      "grid_row": null,
      "grid_template_areas": null,
      "grid_template_columns": null,
      "grid_template_rows": null,
      "height": null,
      "justify_content": null,
      "justify_items": null,
      "left": null,
      "margin": null,
      "max_height": null,
      "max_width": null,
      "min_height": null,
      "min_width": null,
      "object_fit": null,
      "object_position": null,
      "order": null,
      "overflow": null,
      "overflow_x": null,
      "overflow_y": null,
      "padding": null,
      "right": null,
      "top": null,
      "visibility": null,
      "width": null
     }
    },
    "89a534457c424ba8bbc5297c991524a7": {
     "model_module": "@jupyter-widgets/controls",
     "model_module_version": "1.5.0",
     "model_name": "HTMLModel",
     "state": {
      "_dom_classes": [],
      "_model_module": "@jupyter-widgets/controls",
      "_model_module_version": "1.5.0",
      "_model_name": "HTMLModel",
      "_view_count": null,
      "_view_module": "@jupyter-widgets/controls",
      "_view_module_version": "1.5.0",
      "_view_name": "HTMLView",
      "description": "",
      "description_tooltip": null,
      "layout": "IPY_MODEL_0c360d889aa74a8b807f7ae0d29adbdb",
      "placeholder": "​",
      "style": "IPY_MODEL_434dc2bb338544849897e59cef9c227b",
      "value": " 29696/? [00:00&lt;00:00, 9790.73it/s]"
     }
    },
    "8bf6c9121e0d492e9583973ceb432fe9": {
     "model_module": "@jupyter-widgets/base",
     "model_module_version": "1.2.0",
     "model_name": "LayoutModel",
     "state": {
      "_model_module": "@jupyter-widgets/base",
      "_model_module_version": "1.2.0",
      "_model_name": "LayoutModel",
      "_view_count": null,
      "_view_module": "@jupyter-widgets/base",
      "_view_module_version": "1.2.0",
      "_view_name": "LayoutView",
      "align_content": null,
      "align_items": null,
      "align_self": null,
      "border": null,
      "bottom": null,
      "display": null,
      "flex": null,
      "flex_flow": null,
      "grid_area": null,
      "grid_auto_columns": null,
      "grid_auto_flow": null,
      "grid_auto_rows": null,
      "grid_column": null,
      "grid_gap": null,
      "grid_row": null,
      "grid_template_areas": null,
      "grid_template_columns": null,
      "grid_template_rows": null,
      "height": null,
      "justify_content": null,
      "justify_items": null,
      "left": null,
      "margin": null,
      "max_height": null,
      "max_width": null,
      "min_height": null,
      "min_width": null,
      "object_fit": null,
      "object_position": null,
      "order": null,
      "overflow": null,
      "overflow_x": null,
      "overflow_y": null,
      "padding": null,
      "right": null,
      "top": null,
      "visibility": null,
      "width": null
     }
    },
    "9b6e1a6a950e43768decfdc896b14d95": {
     "model_module": "@jupyter-widgets/controls",
     "model_module_version": "1.5.0",
     "model_name": "HTMLModel",
     "state": {
      "_dom_classes": [],
      "_model_module": "@jupyter-widgets/controls",
      "_model_module_version": "1.5.0",
      "_model_name": "HTMLModel",
      "_view_count": null,
      "_view_module": "@jupyter-widgets/controls",
      "_view_module_version": "1.5.0",
      "_view_name": "HTMLView",
      "description": "",
      "description_tooltip": null,
      "layout": "IPY_MODEL_4930f5e49ae34727b2d565ba6abbba29",
      "placeholder": "​",
      "style": "IPY_MODEL_b10e6d671c964b7b9998c03dafd69d1b",
      "value": ""
     }
    },
    "b073f424f56f43ffa27e0673c33d8296": {
     "model_module": "@jupyter-widgets/controls",
     "model_module_version": "1.5.0",
     "model_name": "DescriptionStyleModel",
     "state": {
      "_model_module": "@jupyter-widgets/controls",
      "_model_module_version": "1.5.0",
      "_model_name": "DescriptionStyleModel",
      "_view_count": null,
      "_view_module": "@jupyter-widgets/base",
      "_view_module_version": "1.2.0",
      "_view_name": "StyleView",
      "description_width": ""
     }
    },
    "b10e6d671c964b7b9998c03dafd69d1b": {
     "model_module": "@jupyter-widgets/controls",
     "model_module_version": "1.5.0",
     "model_name": "DescriptionStyleModel",
     "state": {
      "_model_module": "@jupyter-widgets/controls",
      "_model_module_version": "1.5.0",
      "_model_name": "DescriptionStyleModel",
      "_view_count": null,
      "_view_module": "@jupyter-widgets/base",
      "_view_module_version": "1.2.0",
      "_view_name": "StyleView",
      "description_width": ""
     }
    },
    "bbd12fed621b4a24bb09dc47a6061212": {
     "model_module": "@jupyter-widgets/base",
     "model_module_version": "1.2.0",
     "model_name": "LayoutModel",
     "state": {
      "_model_module": "@jupyter-widgets/base",
      "_model_module_version": "1.2.0",
      "_model_name": "LayoutModel",
      "_view_count": null,
      "_view_module": "@jupyter-widgets/base",
      "_view_module_version": "1.2.0",
      "_view_name": "LayoutView",
      "align_content": null,
      "align_items": null,
      "align_self": null,
      "border": null,
      "bottom": null,
      "display": null,
      "flex": null,
      "flex_flow": null,
      "grid_area": null,
      "grid_auto_columns": null,
      "grid_auto_flow": null,
      "grid_auto_rows": null,
      "grid_column": null,
      "grid_gap": null,
      "grid_row": null,
      "grid_template_areas": null,
      "grid_template_columns": null,
      "grid_template_rows": null,
      "height": null,
      "justify_content": null,
      "justify_items": null,
      "left": null,
      "margin": null,
      "max_height": null,
      "max_width": null,
      "min_height": null,
      "min_width": null,
      "object_fit": null,
      "object_position": null,
      "order": null,
      "overflow": null,
      "overflow_x": null,
      "overflow_y": null,
      "padding": null,
      "right": null,
      "top": null,
      "visibility": null,
      "width": null
     }
    },
    "bcf3c439b54f45978300130c48a3a830": {
     "model_module": "@jupyter-widgets/controls",
     "model_module_version": "1.5.0",
     "model_name": "ProgressStyleModel",
     "state": {
      "_model_module": "@jupyter-widgets/controls",
      "_model_module_version": "1.5.0",
      "_model_name": "ProgressStyleModel",
      "_view_count": null,
      "_view_module": "@jupyter-widgets/base",
      "_view_module_version": "1.2.0",
      "_view_name": "StyleView",
      "bar_color": null,
      "description_width": ""
     }
    },
    "bf0158687e584b83b757793403379a69": {
     "model_module": "@jupyter-widgets/controls",
     "model_module_version": "1.5.0",
     "model_name": "HBoxModel",
     "state": {
      "_dom_classes": [],
      "_model_module": "@jupyter-widgets/controls",
      "_model_module_version": "1.5.0",
      "_model_name": "HBoxModel",
      "_view_count": null,
      "_view_module": "@jupyter-widgets/controls",
      "_view_module_version": "1.5.0",
      "_view_name": "HBoxView",
      "box_style": "",
      "children": [
       "IPY_MODEL_d696e38e3080441788b535148f400c3e",
       "IPY_MODEL_016a20ec7ebc4b448654310bdbc1ef04",
       "IPY_MODEL_89a534457c424ba8bbc5297c991524a7"
      ],
      "layout": "IPY_MODEL_db39e71f318643a78831a39ae9e9b223"
     }
    },
    "cbc8fd9400844d44bf43e1d39d536f4e": {
     "model_module": "@jupyter-widgets/controls",
     "model_module_version": "1.5.0",
     "model_name": "DescriptionStyleModel",
     "state": {
      "_model_module": "@jupyter-widgets/controls",
      "_model_module_version": "1.5.0",
      "_model_name": "DescriptionStyleModel",
      "_view_count": null,
      "_view_module": "@jupyter-widgets/base",
      "_view_module_version": "1.2.0",
      "_view_name": "StyleView",
      "description_width": ""
     }
    },
    "d696e38e3080441788b535148f400c3e": {
     "model_module": "@jupyter-widgets/controls",
     "model_module_version": "1.5.0",
     "model_name": "HTMLModel",
     "state": {
      "_dom_classes": [],
      "_model_module": "@jupyter-widgets/controls",
      "_model_module_version": "1.5.0",
      "_model_name": "HTMLModel",
      "_view_count": null,
      "_view_module": "@jupyter-widgets/controls",
      "_view_module_version": "1.5.0",
      "_view_name": "HTMLView",
      "description": "",
      "description_tooltip": null,
      "layout": "IPY_MODEL_3593b4170d074f628eec5097b44fcf4e",
      "placeholder": "​",
      "style": "IPY_MODEL_f1613593f4ca4f60be83b94cf9636e4a",
      "value": ""
     }
    },
    "db39e71f318643a78831a39ae9e9b223": {
     "model_module": "@jupyter-widgets/base",
     "model_module_version": "1.2.0",
     "model_name": "LayoutModel",
     "state": {
      "_model_module": "@jupyter-widgets/base",
      "_model_module_version": "1.2.0",
      "_model_name": "LayoutModel",
      "_view_count": null,
      "_view_module": "@jupyter-widgets/base",
      "_view_module_version": "1.2.0",
      "_view_name": "LayoutView",
      "align_content": null,
      "align_items": null,
      "align_self": null,
      "border": null,
      "bottom": null,
      "display": null,
      "flex": null,
      "flex_flow": null,
      "grid_area": null,
      "grid_auto_columns": null,
      "grid_auto_flow": null,
      "grid_auto_rows": null,
      "grid_column": null,
      "grid_gap": null,
      "grid_row": null,
      "grid_template_areas": null,
      "grid_template_columns": null,
      "grid_template_rows": null,
      "height": null,
      "justify_content": null,
      "justify_items": null,
      "left": null,
      "margin": null,
      "max_height": null,
      "max_width": null,
      "min_height": null,
      "min_width": null,
      "object_fit": null,
      "object_position": null,
      "order": null,
      "overflow": null,
      "overflow_x": null,
      "overflow_y": null,
      "padding": null,
      "right": null,
      "top": null,
      "visibility": null,
      "width": null
     }
    },
    "e3276a34cd4c4b26a3bce47551db7ffb": {
     "model_module": "@jupyter-widgets/controls",
     "model_module_version": "1.5.0",
     "model_name": "HBoxModel",
     "state": {
      "_dom_classes": [],
      "_model_module": "@jupyter-widgets/controls",
      "_model_module_version": "1.5.0",
      "_model_name": "HBoxModel",
      "_view_count": null,
      "_view_module": "@jupyter-widgets/controls",
      "_view_module_version": "1.5.0",
      "_view_name": "HBoxView",
      "box_style": "",
      "children": [
       "IPY_MODEL_9b6e1a6a950e43768decfdc896b14d95",
       "IPY_MODEL_4304c3b333974f32a2fc4b317dde986c",
       "IPY_MODEL_4f411ea3756f43aa98e2c2ac9e260402"
      ],
      "layout": "IPY_MODEL_20d6f33ca8ec4a2da15c798ac303280d"
     }
    },
    "f1613593f4ca4f60be83b94cf9636e4a": {
     "model_module": "@jupyter-widgets/controls",
     "model_module_version": "1.5.0",
     "model_name": "DescriptionStyleModel",
     "state": {
      "_model_module": "@jupyter-widgets/controls",
      "_model_module_version": "1.5.0",
      "_model_name": "DescriptionStyleModel",
      "_view_count": null,
      "_view_module": "@jupyter-widgets/base",
      "_view_module_version": "1.2.0",
      "_view_name": "StyleView",
      "description_width": ""
     }
    },
    "faff639a61ce41c99bce8254a89a9e38": {
     "model_module": "@jupyter-widgets/controls",
     "model_module_version": "1.5.0",
     "model_name": "FloatProgressModel",
     "state": {
      "_dom_classes": [],
      "_model_module": "@jupyter-widgets/controls",
      "_model_module_version": "1.5.0",
      "_model_name": "FloatProgressModel",
      "_view_count": null,
      "_view_module": "@jupyter-widgets/controls",
      "_view_module_version": "1.5.0",
      "_view_name": "ProgressView",
      "bar_style": "success",
      "description": "",
      "description_tooltip": null,
      "layout": "IPY_MODEL_bbd12fed621b4a24bb09dc47a6061212",
      "max": 4542,
      "min": 0,
      "orientation": "horizontal",
      "style": "IPY_MODEL_6d6df8f8006e4229af72cda52b8f139c",
      "value": 4542
     }
    }
   }
  }
 },
 "nbformat": 4,
 "nbformat_minor": 1
}
